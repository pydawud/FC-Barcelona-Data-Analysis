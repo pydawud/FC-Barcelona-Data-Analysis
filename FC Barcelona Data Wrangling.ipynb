{
 "cells": [
  {
   "cell_type": "code",
   "execution_count": 1,
   "id": "8c6ed9c9",
   "metadata": {},
   "outputs": [],
   "source": [
    "#imports\n",
    "import pandas as pd\n",
    "import numpy as np\n",
    "import matplotlib.pyplot as plt\n",
    "import seaborn as sns\n",
    "%matplotlib inline\n",
    "\n",
    "import glob\n",
    "import os"
   ]
  },
  {
   "cell_type": "code",
   "execution_count": 2,
   "id": "20c0f66a",
   "metadata": {},
   "outputs": [],
   "source": [
    "#change the settings for good output\n",
    "pd.set_option('display.max_rows',100)\n",
    "pd.set_option('display.max_columns',20)\n",
    "pd.set_option('display.max_colwidth',200)"
   ]
  },
  {
   "cell_type": "code",
   "execution_count": 3,
   "id": "88dfbe1f",
   "metadata": {},
   "outputs": [
    {
     "name": "stdout",
     "output_type": "stream",
     "text": [
      "['C:\\\\Data-Analysis-projects\\\\FC Barcelona Data Analysis\\\\Datasets\\\\20042005-FCBarcelona.json', 'C:\\\\Data-Analysis-projects\\\\FC Barcelona Data Analysis\\\\Datasets\\\\20052006-FCBarcelona.json', 'C:\\\\Data-Analysis-projects\\\\FC Barcelona Data Analysis\\\\Datasets\\\\20062007-FCBarcelona.json', 'C:\\\\Data-Analysis-projects\\\\FC Barcelona Data Analysis\\\\Datasets\\\\20072008-FCBarcelona.json', 'C:\\\\Data-Analysis-projects\\\\FC Barcelona Data Analysis\\\\Datasets\\\\20082009-FCBarcelona.json', 'C:\\\\Data-Analysis-projects\\\\FC Barcelona Data Analysis\\\\Datasets\\\\20092010-FCBarcelona.json', 'C:\\\\Data-Analysis-projects\\\\FC Barcelona Data Analysis\\\\Datasets\\\\20102011-FCBarcelona.json', 'C:\\\\Data-Analysis-projects\\\\FC Barcelona Data Analysis\\\\Datasets\\\\20112012-FCBarcelona.json', 'C:\\\\Data-Analysis-projects\\\\FC Barcelona Data Analysis\\\\Datasets\\\\20122013-FCBarcelona.json', 'C:\\\\Data-Analysis-projects\\\\FC Barcelona Data Analysis\\\\Datasets\\\\20132014-FCBarcelona.json', 'C:\\\\Data-Analysis-projects\\\\FC Barcelona Data Analysis\\\\Datasets\\\\20142015-FCBarcelona.json', 'C:\\\\Data-Analysis-projects\\\\FC Barcelona Data Analysis\\\\Datasets\\\\20152016-FCBarcelona.json', 'C:\\\\Data-Analysis-projects\\\\FC Barcelona Data Analysis\\\\Datasets\\\\20162017-FCBarcelona.json', 'C:\\\\Data-Analysis-projects\\\\FC Barcelona Data Analysis\\\\Datasets\\\\20172018-FCBarcelona.json', 'C:\\\\Data-Analysis-projects\\\\FC Barcelona Data Analysis\\\\Datasets\\\\20182019-FCBarcelona.json', 'C:\\\\Data-Analysis-projects\\\\FC Barcelona Data Analysis\\\\Datasets\\\\20192020-FCBarcelona.json', 'C:\\\\Data-Analysis-projects\\\\FC Barcelona Data Analysis\\\\Datasets\\\\20202021-FCBarcelona.json']\n"
     ]
    }
   ],
   "source": [
    "#read the file names and join with its extension (.json)\n",
    "path = 'C:\\Data-Analysis-projects\\FC Barcelona Data Analysis\\Datasets'\n",
    "file_name = glob.glob(os.path.join(path,'*.json'))\n",
    "print(file_name)"
   ]
  },
  {
   "cell_type": "code",
   "execution_count": 4,
   "id": "560cb555",
   "metadata": {},
   "outputs": [],
   "source": [
    "#read the file in pandas and concatenate them to a single dataframe\n",
    "dfs = []\n",
    "for file in file_name:\n",
    "    df = pd.read_json(file)\n",
    "    dfs.append(df)\n",
    "    \n",
    "fcb = pd.concat(dfs, axis=0, ignore_index=True)"
   ]
  },
  {
   "cell_type": "code",
   "execution_count": 8,
   "id": "e452981b",
   "metadata": {},
   "outputs": [
    {
     "data": {
      "text/html": [
       "<div>\n",
       "<style scoped>\n",
       "    .dataframe tbody tr th:only-of-type {\n",
       "        vertical-align: middle;\n",
       "    }\n",
       "\n",
       "    .dataframe tbody tr th {\n",
       "        vertical-align: top;\n",
       "    }\n",
       "\n",
       "    .dataframe thead th {\n",
       "        text-align: right;\n",
       "    }\n",
       "</style>\n",
       "<table border=\"1\" class=\"dataframe\">\n",
       "  <thead>\n",
       "    <tr style=\"text-align: right;\">\n",
       "      <th></th>\n",
       "      <th>match_id</th>\n",
       "      <th>match_date</th>\n",
       "      <th>kick_off</th>\n",
       "      <th>competition</th>\n",
       "      <th>season</th>\n",
       "      <th>home_team</th>\n",
       "      <th>away_team</th>\n",
       "      <th>home_score</th>\n",
       "      <th>away_score</th>\n",
       "      <th>match_status</th>\n",
       "      <th>match_status_360</th>\n",
       "      <th>last_updated</th>\n",
       "      <th>last_updated_360</th>\n",
       "      <th>metadata</th>\n",
       "      <th>match_week</th>\n",
       "      <th>competition_stage</th>\n",
       "      <th>stadium</th>\n",
       "      <th>referee</th>\n",
       "    </tr>\n",
       "  </thead>\n",
       "  <tbody>\n",
       "    <tr>\n",
       "      <th>0</th>\n",
       "      <td>68314</td>\n",
       "      <td>2004-12-04</td>\n",
       "      <td>20:00:00.000</td>\n",
       "      <td>{'competition_id': 11, 'country_name': 'Spain', 'competition_name': 'La Liga'}</td>\n",
       "      <td>{'season_id': 37, 'season_name': '2004/2005'}</td>\n",
       "      <td>{'home_team_id': 217, 'home_team_name': 'Barcelona', 'home_team_gender': 'male', 'home_team_group': None, 'country': {'id': 214, 'name': 'Spain'}, 'managers': [{'id': 4953, 'name': 'Frank Rijkaard...</td>\n",
       "      <td>{'away_team_id': 223, 'away_team_name': 'Málaga', 'away_team_gender': 'male', 'away_team_group': None, 'country': {'id': 214, 'name': 'Spain'}, 'managers': [{'id': 4994, 'name': 'Gregorio Manzano ...</td>\n",
       "      <td>4</td>\n",
       "      <td>0</td>\n",
       "      <td>available</td>\n",
       "      <td>scheduled</td>\n",
       "      <td>2020-07-29T05:00</td>\n",
       "      <td>2021-06-13T16:17:31.694</td>\n",
       "      <td>{'data_version': '1.1.0', 'shot_fidelity_version': '2', 'xy_fidelity_version': '2'}</td>\n",
       "      <td>14</td>\n",
       "      <td>{'id': 1, 'name': 'Regular Season'}</td>\n",
       "      <td>{'id': 342, 'name': 'Camp Nou', 'country': {'id': 214, 'name': 'Spain'}}</td>\n",
       "      <td>{'id': 993, 'name': 'José Omar Losantos', 'country': {'id': 214, 'name': 'Spain'}}</td>\n",
       "    </tr>\n",
       "    <tr>\n",
       "      <th>1</th>\n",
       "      <td>68313</td>\n",
       "      <td>2004-10-24</td>\n",
       "      <td>21:00:00.000</td>\n",
       "      <td>{'competition_id': 11, 'country_name': 'Spain', 'competition_name': 'La Liga'}</td>\n",
       "      <td>{'season_id': 37, 'season_name': '2004/2005'}</td>\n",
       "      <td>{'home_team_id': 217, 'home_team_name': 'Barcelona', 'home_team_gender': 'male', 'home_team_group': None, 'country': {'id': 214, 'name': 'Spain'}, 'managers': [{'id': 4953, 'name': 'Frank Rijkaard...</td>\n",
       "      <td>{'away_team_id': 422, 'away_team_name': 'Osasuna', 'away_team_gender': 'male', 'away_team_group': None, 'country': {'id': 214, 'name': 'Spain'}, 'managers': [{'id': 3196, 'name': 'Javier Aguirre O...</td>\n",
       "      <td>3</td>\n",
       "      <td>0</td>\n",
       "      <td>available</td>\n",
       "      <td>scheduled</td>\n",
       "      <td>2020-07-29T05:00</td>\n",
       "      <td>2021-06-13T16:17:31.694</td>\n",
       "      <td>{'data_version': '1.1.0', 'shot_fidelity_version': '2', 'xy_fidelity_version': '2'}</td>\n",
       "      <td>8</td>\n",
       "      <td>{'id': 1, 'name': 'Regular Season'}</td>\n",
       "      <td>{'id': 342, 'name': 'Camp Nou', 'country': {'id': 214, 'name': 'Spain'}}</td>\n",
       "      <td>{'id': 994, 'name': 'Vicente José Lizondo Cortés', 'country': {'id': 214, 'name': 'Spain'}}</td>\n",
       "    </tr>\n",
       "    <tr>\n",
       "      <th>2</th>\n",
       "      <td>68316</td>\n",
       "      <td>2005-05-01</td>\n",
       "      <td>19:00:00.000</td>\n",
       "      <td>{'competition_id': 11, 'country_name': 'Spain', 'competition_name': 'La Liga'}</td>\n",
       "      <td>{'season_id': 37, 'season_name': '2004/2005'}</td>\n",
       "      <td>{'home_team_id': 217, 'home_team_name': 'Barcelona', 'home_team_gender': 'male', 'home_team_group': None, 'country': {'id': 214, 'name': 'Spain'}, 'managers': [{'id': 4953, 'name': 'Frank Rijkaard...</td>\n",
       "      <td>{'away_team_id': 608, 'away_team_name': 'Albacete', 'away_team_gender': 'male', 'away_team_group': None, 'country': {'id': 214, 'name': 'Spain'}, 'managers': [{'id': 6233, 'name': 'Martín Monteagu...</td>\n",
       "      <td>2</td>\n",
       "      <td>0</td>\n",
       "      <td>available</td>\n",
       "      <td>scheduled</td>\n",
       "      <td>2020-07-29T05:00</td>\n",
       "      <td>2021-06-13T16:17:31.694</td>\n",
       "      <td>{'data_version': '1.1.0', 'shot_fidelity_version': '2', 'xy_fidelity_version': '2'}</td>\n",
       "      <td>34</td>\n",
       "      <td>{'id': 1, 'name': 'Regular Season'}</td>\n",
       "      <td>{'id': 342, 'name': 'Camp Nou', 'country': {'id': 214, 'name': 'Spain'}}</td>\n",
       "      <td>{'id': 2535, 'name': 'Carlos Velasco Carballo', 'country': {'id': 214, 'name': 'Spain'}}</td>\n",
       "    </tr>\n",
       "  </tbody>\n",
       "</table>\n",
       "</div>"
      ],
      "text/plain": [
       "   match_id  match_date      kick_off  \\\n",
       "0     68314  2004-12-04  20:00:00.000   \n",
       "1     68313  2004-10-24  21:00:00.000   \n",
       "2     68316  2005-05-01  19:00:00.000   \n",
       "\n",
       "                                                                      competition  \\\n",
       "0  {'competition_id': 11, 'country_name': 'Spain', 'competition_name': 'La Liga'}   \n",
       "1  {'competition_id': 11, 'country_name': 'Spain', 'competition_name': 'La Liga'}   \n",
       "2  {'competition_id': 11, 'country_name': 'Spain', 'competition_name': 'La Liga'}   \n",
       "\n",
       "                                          season  \\\n",
       "0  {'season_id': 37, 'season_name': '2004/2005'}   \n",
       "1  {'season_id': 37, 'season_name': '2004/2005'}   \n",
       "2  {'season_id': 37, 'season_name': '2004/2005'}   \n",
       "\n",
       "                                                                                                                                                                                                 home_team  \\\n",
       "0  {'home_team_id': 217, 'home_team_name': 'Barcelona', 'home_team_gender': 'male', 'home_team_group': None, 'country': {'id': 214, 'name': 'Spain'}, 'managers': [{'id': 4953, 'name': 'Frank Rijkaard...   \n",
       "1  {'home_team_id': 217, 'home_team_name': 'Barcelona', 'home_team_gender': 'male', 'home_team_group': None, 'country': {'id': 214, 'name': 'Spain'}, 'managers': [{'id': 4953, 'name': 'Frank Rijkaard...   \n",
       "2  {'home_team_id': 217, 'home_team_name': 'Barcelona', 'home_team_gender': 'male', 'home_team_group': None, 'country': {'id': 214, 'name': 'Spain'}, 'managers': [{'id': 4953, 'name': 'Frank Rijkaard...   \n",
       "\n",
       "                                                                                                                                                                                                 away_team  \\\n",
       "0  {'away_team_id': 223, 'away_team_name': 'Málaga', 'away_team_gender': 'male', 'away_team_group': None, 'country': {'id': 214, 'name': 'Spain'}, 'managers': [{'id': 4994, 'name': 'Gregorio Manzano ...   \n",
       "1  {'away_team_id': 422, 'away_team_name': 'Osasuna', 'away_team_gender': 'male', 'away_team_group': None, 'country': {'id': 214, 'name': 'Spain'}, 'managers': [{'id': 3196, 'name': 'Javier Aguirre O...   \n",
       "2  {'away_team_id': 608, 'away_team_name': 'Albacete', 'away_team_gender': 'male', 'away_team_group': None, 'country': {'id': 214, 'name': 'Spain'}, 'managers': [{'id': 6233, 'name': 'Martín Monteagu...   \n",
       "\n",
       "   home_score  away_score match_status match_status_360      last_updated  \\\n",
       "0           4           0    available        scheduled  2020-07-29T05:00   \n",
       "1           3           0    available        scheduled  2020-07-29T05:00   \n",
       "2           2           0    available        scheduled  2020-07-29T05:00   \n",
       "\n",
       "          last_updated_360  \\\n",
       "0  2021-06-13T16:17:31.694   \n",
       "1  2021-06-13T16:17:31.694   \n",
       "2  2021-06-13T16:17:31.694   \n",
       "\n",
       "                                                                              metadata  \\\n",
       "0  {'data_version': '1.1.0', 'shot_fidelity_version': '2', 'xy_fidelity_version': '2'}   \n",
       "1  {'data_version': '1.1.0', 'shot_fidelity_version': '2', 'xy_fidelity_version': '2'}   \n",
       "2  {'data_version': '1.1.0', 'shot_fidelity_version': '2', 'xy_fidelity_version': '2'}   \n",
       "\n",
       "   match_week                    competition_stage  \\\n",
       "0          14  {'id': 1, 'name': 'Regular Season'}   \n",
       "1           8  {'id': 1, 'name': 'Regular Season'}   \n",
       "2          34  {'id': 1, 'name': 'Regular Season'}   \n",
       "\n",
       "                                                                    stadium  \\\n",
       "0  {'id': 342, 'name': 'Camp Nou', 'country': {'id': 214, 'name': 'Spain'}}   \n",
       "1  {'id': 342, 'name': 'Camp Nou', 'country': {'id': 214, 'name': 'Spain'}}   \n",
       "2  {'id': 342, 'name': 'Camp Nou', 'country': {'id': 214, 'name': 'Spain'}}   \n",
       "\n",
       "                                                                                       referee  \n",
       "0           {'id': 993, 'name': 'José Omar Losantos', 'country': {'id': 214, 'name': 'Spain'}}  \n",
       "1  {'id': 994, 'name': 'Vicente José Lizondo Cortés', 'country': {'id': 214, 'name': 'Spain'}}  \n",
       "2     {'id': 2535, 'name': 'Carlos Velasco Carballo', 'country': {'id': 214, 'name': 'Spain'}}  "
      ]
     },
     "execution_count": 8,
     "metadata": {},
     "output_type": "execute_result"
    }
   ],
   "source": [
    "#first 5 data\n",
    "fcb.head(3)"
   ]
  },
  {
   "cell_type": "code",
   "execution_count": 6,
   "id": "baca4927",
   "metadata": {},
   "outputs": [
    {
     "name": "stdout",
     "output_type": "stream",
     "text": [
      "<class 'pandas.core.frame.DataFrame'>\n",
      "RangeIndex: 520 entries, 0 to 519\n",
      "Data columns (total 18 columns):\n",
      " #   Column             Non-Null Count  Dtype \n",
      "---  ------             --------------  ----- \n",
      " 0   match_id           520 non-null    int64 \n",
      " 1   match_date         520 non-null    object\n",
      " 2   kick_off           520 non-null    object\n",
      " 3   competition        520 non-null    object\n",
      " 4   season             520 non-null    object\n",
      " 5   home_team          520 non-null    object\n",
      " 6   away_team          520 non-null    object\n",
      " 7   home_score         520 non-null    int64 \n",
      " 8   away_score         520 non-null    int64 \n",
      " 9   match_status       520 non-null    object\n",
      " 10  match_status_360   520 non-null    object\n",
      " 11  last_updated       520 non-null    object\n",
      " 12  last_updated_360   520 non-null    object\n",
      " 13  metadata           520 non-null    object\n",
      " 14  match_week         520 non-null    int64 \n",
      " 15  competition_stage  520 non-null    object\n",
      " 16  stadium            520 non-null    object\n",
      " 17  referee            405 non-null    object\n",
      "dtypes: int64(4), object(14)\n",
      "memory usage: 73.2+ KB\n"
     ]
    }
   ],
   "source": [
    "#basic info like the shape, datatypes and null values\n",
    "fcb.info()"
   ]
  },
  {
   "cell_type": "markdown",
   "id": "4d33212b",
   "metadata": {},
   "source": [
    "> The dataset has 520 matches played with 18 columns information, only referee has missing values and some datatypes need to change"
   ]
  },
  {
   "cell_type": "code",
   "execution_count": 7,
   "id": "8e124baf",
   "metadata": {},
   "outputs": [
    {
     "data": {
      "text/html": [
       "<div>\n",
       "<style scoped>\n",
       "    .dataframe tbody tr th:only-of-type {\n",
       "        vertical-align: middle;\n",
       "    }\n",
       "\n",
       "    .dataframe tbody tr th {\n",
       "        vertical-align: top;\n",
       "    }\n",
       "\n",
       "    .dataframe thead th {\n",
       "        text-align: right;\n",
       "    }\n",
       "</style>\n",
       "<table border=\"1\" class=\"dataframe\">\n",
       "  <thead>\n",
       "    <tr style=\"text-align: right;\">\n",
       "      <th></th>\n",
       "      <th>match_id</th>\n",
       "      <th>home_score</th>\n",
       "      <th>away_score</th>\n",
       "      <th>match_week</th>\n",
       "    </tr>\n",
       "  </thead>\n",
       "  <tbody>\n",
       "    <tr>\n",
       "      <th>count</th>\n",
       "      <td>5.200000e+02</td>\n",
       "      <td>520.000000</td>\n",
       "      <td>520.000000</td>\n",
       "      <td>520.000000</td>\n",
       "    </tr>\n",
       "    <tr>\n",
       "      <th>mean</th>\n",
       "      <td>3.744410e+05</td>\n",
       "      <td>1.982692</td>\n",
       "      <td>1.500000</td>\n",
       "      <td>19.457692</td>\n",
       "    </tr>\n",
       "    <tr>\n",
       "      <th>std</th>\n",
       "      <td>9.194129e+05</td>\n",
       "      <td>1.723041</td>\n",
       "      <td>1.492434</td>\n",
       "      <td>10.777579</td>\n",
       "    </tr>\n",
       "    <tr>\n",
       "      <th>min</th>\n",
       "      <td>9.575000e+03</td>\n",
       "      <td>0.000000</td>\n",
       "      <td>0.000000</td>\n",
       "      <td>1.000000</td>\n",
       "    </tr>\n",
       "    <tr>\n",
       "      <th>25%</th>\n",
       "      <td>6.915675e+04</td>\n",
       "      <td>1.000000</td>\n",
       "      <td>0.000000</td>\n",
       "      <td>10.000000</td>\n",
       "    </tr>\n",
       "    <tr>\n",
       "      <th>50%</th>\n",
       "      <td>6.932250e+04</td>\n",
       "      <td>2.000000</td>\n",
       "      <td>1.000000</td>\n",
       "      <td>20.000000</td>\n",
       "    </tr>\n",
       "    <tr>\n",
       "      <th>75%</th>\n",
       "      <td>2.667258e+05</td>\n",
       "      <td>3.000000</td>\n",
       "      <td>2.000000</td>\n",
       "      <td>29.000000</td>\n",
       "    </tr>\n",
       "    <tr>\n",
       "      <th>max</th>\n",
       "      <td>3.773695e+06</td>\n",
       "      <td>8.000000</td>\n",
       "      <td>8.000000</td>\n",
       "      <td>38.000000</td>\n",
       "    </tr>\n",
       "  </tbody>\n",
       "</table>\n",
       "</div>"
      ],
      "text/plain": [
       "           match_id  home_score  away_score  match_week\n",
       "count  5.200000e+02  520.000000  520.000000  520.000000\n",
       "mean   3.744410e+05    1.982692    1.500000   19.457692\n",
       "std    9.194129e+05    1.723041    1.492434   10.777579\n",
       "min    9.575000e+03    0.000000    0.000000    1.000000\n",
       "25%    6.915675e+04    1.000000    0.000000   10.000000\n",
       "50%    6.932250e+04    2.000000    1.000000   20.000000\n",
       "75%    2.667258e+05    3.000000    2.000000   29.000000\n",
       "max    3.773695e+06    8.000000    8.000000   38.000000"
      ]
     },
     "execution_count": 7,
     "metadata": {},
     "output_type": "execute_result"
    }
   ],
   "source": [
    "# descriptive statistics\n",
    "fcb.describe()"
   ]
  },
  {
   "cell_type": "markdown",
   "id": "0865e5a0",
   "metadata": {},
   "source": [
    "> We can see the maximum score is 8 goals, minimum is obviously zero, and an average of 2 goals precisely. "
   ]
  },
  {
   "cell_type": "code",
   "execution_count": 27,
   "id": "70eebc2f",
   "metadata": {},
   "outputs": [
    {
     "data": {
      "text/plain": [
       "False"
      ]
     },
     "execution_count": 27,
     "metadata": {},
     "output_type": "execute_result"
    }
   ],
   "source": [
    "#check for duplicates\n",
    "fcb['match_id'].duplicated().any()"
   ]
  },
  {
   "cell_type": "code",
   "execution_count": 9,
   "id": "5b37a79e",
   "metadata": {},
   "outputs": [
    {
     "data": {
      "text/plain": [
       "{'competition_id': 11, 'country_name': 'Spain', 'competition_name': 'La Liga'}    520\n",
       "Name: competition, dtype: int64"
      ]
     },
     "execution_count": 9,
     "metadata": {},
     "output_type": "execute_result"
    }
   ],
   "source": [
    "#check the competition column\n",
    "fcb['competition'].value_counts()"
   ]
  },
  {
   "cell_type": "markdown",
   "id": "d127483f",
   "metadata": {},
   "source": [
    "> it's has only a single value object. it should be discarded"
   ]
  },
  {
   "cell_type": "code",
   "execution_count": 11,
   "id": "2ca002a5",
   "metadata": {},
   "outputs": [
    {
     "data": {
      "text/plain": [
       "{'season_id': 26, 'season_name': '2014/2015'}    38\n",
       "{'season_id': 23, 'season_name': '2011/2012'}    37\n",
       "{'season_id': 1, 'season_name': '2017/2018'}     36\n",
       "{'season_id': 90, 'season_name': '2020/2021'}    35\n",
       "{'season_id': 21, 'season_name': '2009/2010'}    35\n",
       "{'season_id': 4, 'season_name': '2018/2019'}     34\n",
       "{'season_id': 2, 'season_name': '2016/2017'}     34\n",
       "{'season_id': 42, 'season_name': '2019/2020'}    33\n",
       "{'season_id': 22, 'season_name': '2010/2011'}    33\n",
       "{'season_id': 27, 'season_name': '2015/2016'}    33\n",
       "{'season_id': 24, 'season_name': '2012/2013'}    32\n",
       "{'season_id': 25, 'season_name': '2013/2014'}    31\n",
       "{'season_id': 41, 'season_name': '2008/2009'}    31\n",
       "{'season_id': 40, 'season_name': '2007/2008'}    28\n",
       "{'season_id': 39, 'season_name': '2006/2007'}    26\n",
       "{'season_id': 38, 'season_name': '2005/2006'}    17\n",
       "{'season_id': 37, 'season_name': '2004/2005'}     7\n",
       "Name: season, dtype: int64"
      ]
     },
     "execution_count": 11,
     "metadata": {},
     "output_type": "execute_result"
    }
   ],
   "source": [
    "#check the season column\n",
    "fcb['season'].value_counts()"
   ]
  },
  {
   "cell_type": "markdown",
   "id": "7cdf7481",
   "metadata": {},
   "source": [
    "> we will retain only the season_name and discard the remaining data"
   ]
  },
  {
   "cell_type": "code",
   "execution_count": 14,
   "id": "0fdcc853",
   "metadata": {},
   "outputs": [
    {
     "data": {
      "text/html": [
       "<div>\n",
       "<style scoped>\n",
       "    .dataframe tbody tr th:only-of-type {\n",
       "        vertical-align: middle;\n",
       "    }\n",
       "\n",
       "    .dataframe tbody tr th {\n",
       "        vertical-align: top;\n",
       "    }\n",
       "\n",
       "    .dataframe thead th {\n",
       "        text-align: right;\n",
       "    }\n",
       "</style>\n",
       "<table border=\"1\" class=\"dataframe\">\n",
       "  <thead>\n",
       "    <tr style=\"text-align: right;\">\n",
       "      <th></th>\n",
       "      <th>home_team</th>\n",
       "      <th>away_team</th>\n",
       "    </tr>\n",
       "  </thead>\n",
       "  <tbody>\n",
       "    <tr>\n",
       "      <th>348</th>\n",
       "      <td>{'home_team_id': 213, 'home_team_name': 'Sevilla', 'home_team_gender': 'male', 'home_team_group': None, 'country': {'id': 214, 'name': 'Spain'}, 'managers': [{'id': 637, 'name': 'Jorge Luis Sampao...</td>\n",
       "      <td>{'away_team_id': 217, 'away_team_name': 'Barcelona', 'away_team_gender': 'male', 'away_team_group': None, 'country': {'id': 214, 'name': 'Spain'}, 'managers': [{'id': 793, 'name': 'Luis Enrique Ma...</td>\n",
       "    </tr>\n",
       "    <tr>\n",
       "      <th>278</th>\n",
       "      <td>{'home_team_id': 223, 'home_team_name': 'Málaga', 'home_team_gender': 'male', 'home_team_group': None, 'country': {'id': 214, 'name': 'Spain'}, 'managers': [{'id': 188, 'name': 'Javier Gracia Carl...</td>\n",
       "      <td>{'away_team_id': 217, 'away_team_name': 'Barcelona', 'away_team_gender': 'male', 'away_team_group': None, 'country': {'id': 214, 'name': 'Spain'}, 'managers': [{'id': 793, 'name': 'Luis Enrique Ma...</td>\n",
       "    </tr>\n",
       "    <tr>\n",
       "      <th>141</th>\n",
       "      <td>{'home_team_id': 395, 'home_team_name': 'Real Zaragoza', 'home_team_gender': 'male', 'home_team_group': None, 'country': {'id': 214, 'name': 'Spain'}, 'managers': [{'id': 4958, 'name': 'José Aurel...</td>\n",
       "      <td>{'away_team_id': 217, 'away_team_name': 'Barcelona', 'away_team_gender': 'male', 'away_team_group': None, 'country': {'id': 214, 'name': 'Spain'}, 'managers': [{'id': 36, 'name': 'Josep Guardiola ...</td>\n",
       "    </tr>\n",
       "  </tbody>\n",
       "</table>\n",
       "</div>"
      ],
      "text/plain": [
       "                                                                                                                                                                                                   home_team  \\\n",
       "348  {'home_team_id': 213, 'home_team_name': 'Sevilla', 'home_team_gender': 'male', 'home_team_group': None, 'country': {'id': 214, 'name': 'Spain'}, 'managers': [{'id': 637, 'name': 'Jorge Luis Sampao...   \n",
       "278  {'home_team_id': 223, 'home_team_name': 'Málaga', 'home_team_gender': 'male', 'home_team_group': None, 'country': {'id': 214, 'name': 'Spain'}, 'managers': [{'id': 188, 'name': 'Javier Gracia Carl...   \n",
       "141  {'home_team_id': 395, 'home_team_name': 'Real Zaragoza', 'home_team_gender': 'male', 'home_team_group': None, 'country': {'id': 214, 'name': 'Spain'}, 'managers': [{'id': 4958, 'name': 'José Aurel...   \n",
       "\n",
       "                                                                                                                                                                                                   away_team  \n",
       "348  {'away_team_id': 217, 'away_team_name': 'Barcelona', 'away_team_gender': 'male', 'away_team_group': None, 'country': {'id': 214, 'name': 'Spain'}, 'managers': [{'id': 793, 'name': 'Luis Enrique Ma...  \n",
       "278  {'away_team_id': 217, 'away_team_name': 'Barcelona', 'away_team_gender': 'male', 'away_team_group': None, 'country': {'id': 214, 'name': 'Spain'}, 'managers': [{'id': 793, 'name': 'Luis Enrique Ma...  \n",
       "141  {'away_team_id': 217, 'away_team_name': 'Barcelona', 'away_team_gender': 'male', 'away_team_group': None, 'country': {'id': 214, 'name': 'Spain'}, 'managers': [{'id': 36, 'name': 'Josep Guardiola ...  "
      ]
     },
     "execution_count": 14,
     "metadata": {},
     "output_type": "execute_result"
    }
   ],
   "source": [
    "#inspect home team and team\n",
    "fcb[['home_team','away_team']].sample(3)"
   ]
  },
  {
   "cell_type": "markdown",
   "id": "bfa5bdc7",
   "metadata": {},
   "source": [
    "> we will extract home_team_name and home_manager likewise away_team_name and away_team-manager"
   ]
  },
  {
   "cell_type": "code",
   "execution_count": 15,
   "id": "8624f867",
   "metadata": {},
   "outputs": [
    {
     "data": {
      "text/plain": [
       "available    520\n",
       "Name: match_status, dtype: int64"
      ]
     },
     "execution_count": 15,
     "metadata": {},
     "output_type": "execute_result"
    }
   ],
   "source": [
    "#inspect match_status\n",
    "fcb['match_status'].value_counts()"
   ]
  },
  {
   "cell_type": "markdown",
   "id": "80f9eaf7",
   "metadata": {},
   "source": [
    "> match status is unique, we will discard it"
   ]
  },
  {
   "cell_type": "code",
   "execution_count": 17,
   "id": "ba9d70b5",
   "metadata": {},
   "outputs": [
    {
     "data": {
      "text/plain": [
       "scheduled     485\n",
       "available      34\n",
       "processing      1\n",
       "Name: match_status_360, dtype: int64"
      ]
     },
     "execution_count": 17,
     "metadata": {},
     "output_type": "execute_result"
    }
   ],
   "source": [
    "#inspect match_status_360\n",
    "fcb['match_status_360'].value_counts()"
   ]
  },
  {
   "cell_type": "code",
   "execution_count": 18,
   "id": "900b4602",
   "metadata": {},
   "outputs": [
    {
     "data": {
      "text/plain": [
       "{'data_version': '1.1.0', 'shot_fidelity_version': '2', 'xy_fidelity_version': '2'}    465\n",
       "{'data_version': '1.1.0', 'shot_fidelity_version': '2'}                                 26\n",
       "{'data_version': '1.0.2', 'shot_fidelity_version': '2'}                                 16\n",
       "{'data_version': '1.0.3', 'shot_fidelity_version': '2'}                                 13\n",
       "Name: metadata, dtype: int64"
      ]
     },
     "execution_count": 18,
     "metadata": {},
     "output_type": "execute_result"
    }
   ],
   "source": [
    "#inspect meta data\n",
    "fcb['metadata'].value_counts()"
   ]
  },
  {
   "cell_type": "markdown",
   "id": "dbec532f",
   "metadata": {},
   "source": [
    "> Not important for our analysis"
   ]
  },
  {
   "cell_type": "code",
   "execution_count": 19,
   "id": "55b052a1",
   "metadata": {},
   "outputs": [
    {
     "data": {
      "text/plain": [
       "{'id': 1, 'name': 'Regular Season'}    520\n",
       "Name: competition_stage, dtype: int64"
      ]
     },
     "execution_count": 19,
     "metadata": {},
     "output_type": "execute_result"
    }
   ],
   "source": [
    "#inspect competition stage\n",
    "fcb['competition_stage'].value_counts()"
   ]
  },
  {
   "cell_type": "markdown",
   "id": "de8772e3",
   "metadata": {},
   "source": [
    "> has unique values, it shall be discarded"
   ]
  },
  {
   "cell_type": "code",
   "execution_count": 20,
   "id": "f6906cd2",
   "metadata": {},
   "outputs": [
    {
     "data": {
      "text/plain": [
       "{'id': 342, 'name': 'Camp Nou', 'country': {'id': 214, 'name': 'Spain'}}                                262\n",
       "{'id': 361, 'name': 'Estadio de la Cerámica', 'country': {'id': 214, 'name': 'Spain'}}                   15\n",
       "{'id': 353, 'name': 'Estadio Santiago Bernabéu', 'country': {'id': 214, 'name': 'Spain'}}                15\n",
       "{'id': 344, 'name': 'Estadio de Mestalla', 'country': {'id': 214, 'name': 'Spain'}}                      15\n",
       "{'id': 349, 'name': 'Estadio Ramón Sánchez Pizjuán', 'country': {'id': 214, 'name': 'Spain'}}            14\n",
       "{'id': 5043, 'name': 'Reale Arena', 'country': {'id': 214, 'name': 'Spain'}}                             12\n",
       "{'id': 354, 'name': 'Coliseum Alfonso Pérez', 'country': {'id': 214, 'name': 'Spain'}}                   11\n",
       "{'id': 625, 'name': 'Estadio Vicente Calderón', 'country': {'id': 214, 'name': 'Spain'}}                 11\n",
       "{'id': 351, 'name': 'RCDE Stadium', 'country': {'id': 214, 'name': 'Spain'}}                             10\n",
       "{'id': 352, 'name': 'Estadio Benito Villamarín', 'country': {'id': 214, 'name': 'Spain'}}                10\n",
       "{'id': 350, 'name': 'Estadio Ciudad de Valencia', 'country': {'id': 214, 'name': 'Spain'}}               10\n",
       "{'id': 4658, 'name': 'Estadio Abanca-Riazor', 'country': {'id': 214, 'name': 'Spain'}}                    8\n",
       "{'id': 4650, 'name': 'Estadio El Sadar', 'country': {'id': 214, 'name': 'Spain'}}                         8\n",
       "{'id': 622, 'name': 'Estadio Municipal José Zorrilla', 'country': {'id': 214, 'name': 'Spain'}}           8\n",
       "{'id': 653, 'name': 'Abanca-Balaídos', 'country': {'id': 214, 'name': 'Spain'}}                           8\n",
       "{'id': 4667, 'name': 'Estadio Nuevo Los Cármenes', 'country': {'id': 214, 'name': 'Spain'}}               7\n",
       "{'id': 346, 'name': 'Estadio La Rosaleda', 'country': {'id': 214, 'name': 'Spain'}}                       7\n",
       "{'id': 4636, 'name': 'Campos de Sport de El Sardinero', 'country': {'id': 214, 'name': 'Spain'}}          6\n",
       "{'id': 345, 'name': 'San Mamés Barria', 'country': {'id': 214, 'name': 'Spain'}}                          6\n",
       "{'id': 4457, 'name': 'Estadio de la Romareda', 'country': {'id': 214, 'name': 'Spain'}}                   6\n",
       "{'id': 4454, 'name': 'Visit Mallorca Estadi', 'country': {'id': 214, 'name': 'Spain'}}                    6\n",
       "{'id': 347, 'name': 'Estadio Municipal de Ipurúa', 'country': {'id': 214, 'name': 'Spain'}}               6\n",
       "{'id': 4656, 'name': 'Estadio Municipal El Molinón', 'country': {'id': 214, 'name': 'Spain'}}             5\n",
       "{'id': 348, 'name': 'Estadio de Mendizorroza', 'country': {'id': 214, 'name': 'Spain'}}                   5\n",
       "{'id': 4637, 'name': 'Estadio San Mamés', 'country': {'id': 214, 'name': 'Spain'}}                        5\n",
       "{'id': 4640, 'name': 'Estadio de Vallecas', 'country': {'id': 214, 'name': 'Spain'}}                      5\n",
       "{'id': 4657, 'name': 'Estadio de los Juegos Mediterráneos', 'country': {'id': 214, 'name': 'Spain'}}      5\n",
       "{'id': 4654, 'name': 'Estadio Wanda Metropolitano', 'country': {'id': 214, 'name': 'Spain'}}              4\n",
       "{'id': 355, 'name': 'Estadio Municipal de Butarque', 'country': {'id': 214, 'name': 'Spain'}}             4\n",
       "{'id': 4635, 'name': 'Estadi Olímpic Lluís Companys', 'country': {'id': 214, 'name': 'Spain'}}            4\n",
       "{'id': 4638, 'name': 'Estadio Nuevo Colombino', 'country': {'id': 214, 'name': 'Spain'}}                  3\n",
       "{'id': 357, 'name': 'Estadio de Gran Canaria', 'country': {'id': 214, 'name': 'Spain'}}                   3\n",
       "{'id': 343, 'name': 'Estadi Municipal de Montilivi', 'country': {'id': 214, 'name': 'Spain'}}             2\n",
       "{'id': 4662, 'name': 'Estadio Nuevo Mirandilla', 'country': {'id': 214, 'name': 'Spain'}}                 2\n",
       "{'id': 4665, 'name': 'Estadio Manuel Martínez Valero', 'country': {'id': 214, 'name': 'Spain'}}           2\n",
       "{'id': 624, 'name': 'Estadio El Alcoraz', 'country': {'id': 214, 'name': 'Spain'}}                        1\n",
       "{'id': 4660, 'name': 'Estadio José Rico Pérez', 'country': {'id': 214, 'name': 'Spain'}}                  1\n",
       "{'id': 4653, 'name': 'Estadio Nuevo Arcángel', 'country': {'id': 214, 'name': 'Spain'}}                   1\n",
       "{'id': 4639, 'name': 'Estadio Municipal de Chapín', 'country': {'id': 214, 'name': 'Spain'}}              1\n",
       "{'id': 4655, 'name': 'Estadio Heliodoro Rodríguez Lopéz', 'country': {'id': 214, 'name': 'Spain'}}        1\n",
       "{'id': 4652, 'name': 'Los Pajaritos', 'country': {'id': 214, 'name': 'Spain'}}                            1\n",
       "{'id': 4448, 'name': 'Estadio Carlos Belmonte', 'country': {'id': 214, 'name': 'Spain'}}                  1\n",
       "{'id': 4455, 'name': 'Nou Estadi de Tarragona', 'country': {'id': 214, 'name': 'Spain'}}                  1\n",
       "{'id': 52894, 'name': '\tEstadio Enrique Roca de Murcia', 'country': {'id': 214, 'name': 'Spain'}}         1\n",
       "{'id': 5341, 'name': 'Estadio Alfredo Di Stéfano', 'country': {'id': 214, 'name': 'Spain'}}               1\n",
       "Name: stadium, dtype: int64"
      ]
     },
     "execution_count": 20,
     "metadata": {},
     "output_type": "execute_result"
    }
   ],
   "source": [
    "#inspect stadium\n",
    "fcb['stadium'].value_counts()"
   ]
  },
  {
   "cell_type": "markdown",
   "id": "987fbbdf",
   "metadata": {},
   "source": [
    "> we will extract only the stadium name"
   ]
  },
  {
   "cell_type": "code",
   "execution_count": 21,
   "id": "dbe80c2d",
   "metadata": {},
   "outputs": [
    {
     "data": {
      "text/plain": [
       "{'id': 221, 'name': 'Alberto Undiano Mallenco', 'country': {'id': 214, 'name': 'Spain'}}               33\n",
       "{'id': 180, 'name': 'Antonio Miguel Mateu Lahoz', 'country': {'id': 214, 'name': 'Spain'}}             32\n",
       "{'id': 222, 'name': 'David Fernández Borbalan', 'country': {'id': 214, 'name': 'Spain'}}               30\n",
       "{'id': 1008, 'name': 'Carlos Clos Gómez', 'country': {'id': 214, 'name': 'Spain'}}                     20\n",
       "{'id': 1003, 'name': 'Fernando Teixeira', 'country': {'id': 214, 'name': 'Spain'}}                     20\n",
       "{'id': 211, 'name': 'José Luis González González', 'country': {'id': 214, 'name': 'Spain'}}            19\n",
       "{'id': 183, 'name': 'Jesús Gil Manzano', 'country': {'id': 214, 'name': 'Spain'}}                      19\n",
       "{'id': 1001, 'name': 'Miguel Pérez', 'country': {'id': 214, 'name': 'Spain'}}                          17\n",
       "{'id': 2535, 'name': 'Carlos Velasco Carballo', 'country': {'id': 214, 'name': 'Spain'}}               17\n",
       "{'id': 997, 'name': 'César Muñiz', 'country': {'id': 214, 'name': 'Spain'}}                            16\n",
       "{'id': 999, 'name': 'Eduardo Iturralde Gonzalez', 'country': {'id': 214, 'name': 'Spain'}}             15\n",
       "{'id': 1012, 'name': 'Carlos Delgado', 'country': {'id': 214, 'name': 'Spain'}}                        14\n",
       "{'id': 218, 'name': 'Ignacio Iglesias Villanueva', 'country': {'id': 214, 'name': 'Spain'}}            13\n",
       "{'id': 1004, 'name': 'Turienzo', 'country': {'id': 214, 'name': 'Spain'}}                              12\n",
       "{'id': 1009, 'name': 'Miguel Ayza', 'country': {'id': 214, 'name': 'Spain'}}                           11\n",
       "{'id': 1016, 'name': 'José Teixeira', 'country': {'id': 214, 'name': 'Spain'}}                          9\n",
       "{'id': 1015, 'name': 'Pedro Jesús Pérez Montero', 'country': {'id': 214, 'name': 'Spain'}}              8\n",
       "{'id': 1007, 'name': 'Alfonso Perez Burrull', 'country': {'id': 214, 'name': 'Spain'}}                  8\n",
       "{'id': 1013, 'name': 'José Paradas', 'country': {'id': 214, 'name': 'Spain'}}                           7\n",
       "{'id': 1000, 'name': 'Rafael Ramírez Domínguez', 'country': {'id': 214, 'name': 'Spain'}}               7\n",
       "{'id': 2608, 'name': 'Alejandro José Hernández Hernández', 'country': {'id': 214, 'name': 'Spain'}}     5\n",
       "{'id': 2728, 'name': 'Carlos del Cerro Grande', 'country': {'id': 214, 'name': 'Spain'}}                5\n",
       "{'id': 2699, 'name': 'Manuel Enrique Mejuto Gonzalez', 'country': {'id': 214, 'name': 'Spain'}}         5\n",
       "{'id': 996, 'name': 'Carlos Megía Dávila', 'country': {'id': 214, 'name': 'Spain'}}                     5\n",
       "{'id': 1011, 'name': 'Luis Medina Cantalejo', 'country': {'id': 214, 'name': 'Spain'}}                  5\n",
       "{'id': 1010, 'name': 'Antonio Rubinos Perez', 'country': {'id': 214, 'name': 'Spain'}}                  5\n",
       "{'id': 1006, 'name': 'Julian Rodriguez Santiago', 'country': {'id': 214, 'name': 'Spain'}}              4\n",
       "{'id': 2602, 'name': 'Ricardo De Burgos Bengoetxea', 'country': {'id': 214, 'name': 'Spain'}}           4\n",
       "{'id': 1002, 'name': 'Bernardino Gonzalez', 'country': {'id': 214, 'name': 'Spain'}}                    4\n",
       "{'id': 998, 'name': 'Arturo Daudén Ibáñez', 'country': {'id': 214, 'name': 'Spain'}}                    4\n",
       "{'id': 2609, 'name': 'José Luis Munuera Montero', 'country': {'id': 214, 'name': 'Spain'}}              3\n",
       "{'id': 2625, 'name': 'José María Sánchez Martínez', 'country': {'id': 214, 'name': 'Spain'}}            3\n",
       "{'id': 2434, 'name': 'Juan Martínez Munuera', 'country': {'id': 214, 'name': 'Spain'}}                  3\n",
       "{'id': 994, 'name': 'Vicente José Lizondo Cortés', 'country': {'id': 214, 'name': 'Spain'}}             3\n",
       "{'id': 2402, 'name': 'Guillermo Cuadra Fernández', 'country': {'id': 214, 'name': 'Spain'}}             3\n",
       "{'id': 866, 'name': 'Jorge Figueroa Vázquez', 'country': {'id': 214, 'name': 'Spain'}}                  2\n",
       "{'id': 2575, 'name': 'Santiago Jaime Latre', 'country': {'id': 214, 'name': 'Spain'}}                   2\n",
       "{'id': 995, 'name': 'Puentes Leira', 'country': {'id': 214, 'name': 'Spain'}}                           2\n",
       "{'id': 2419, 'name': 'Eduardo Prieto Iglesias', 'country': {'id': 214, 'name': 'Spain'}}                2\n",
       "{'id': 2470, 'name': 'César Soto Grado', 'country': {'id': 214, 'name': 'Spain'}}                       2\n",
       "{'id': 2692, 'name': 'Mario Melero López', 'country': {'id': 214, 'name': 'Spain'}}                     1\n",
       "{'id': 993, 'name': 'José Omar Losantos', 'country': {'id': 214, 'name': 'Spain'}}                      1\n",
       "{'id': 2493, 'name': 'Pablo González Fuertes', 'country': {'id': 214, 'name': 'Spain'}}                 1\n",
       "{'id': 2559, 'name': 'Adrián Cordero Vega', 'country': {'id': 214, 'name': 'Spain'}}                    1\n",
       "{'id': 2624, 'name': 'Daniel Jesús Trujillo Suárez', 'country': {'id': 214, 'name': 'Spain'}}           1\n",
       "{'id': 1005, 'name': 'Victor José Esquinas Torres', 'country': {'id': 214, 'name': 'Spain'}}            1\n",
       "{'id': 2634, 'name': 'Isidro Díaz de Mera Escuderos', 'country': {'id': 214, 'name': 'Spain'}}          1\n",
       "Name: referee, dtype: int64"
      ]
     },
     "execution_count": 21,
     "metadata": {},
     "output_type": "execute_result"
    }
   ],
   "source": [
    "#inspect referee\n",
    "fcb['referee'].value_counts()"
   ]
  },
  {
   "cell_type": "markdown",
   "id": "ee8fa1d6",
   "metadata": {},
   "source": [
    "> we will extract only the referee name"
   ]
  },
  {
   "cell_type": "markdown",
   "id": "8008a0aa",
   "metadata": {},
   "source": [
    "### Assessment\n",
    "1. match_date, kick_off should be datetime\n",
    "2. competition, competition_stafe, and match_status are unique (not important for our analysis)\n",
    "3. season should have only the season_name (For example, 2004/2005)\n",
    "4. home_team should consist only home_team name, also we can extract home_team manager from it.\n",
    "5. away_team should consist only away_team name, also we can extract away_team manager from it.\n",
    "6. last_updated, last_updated_360, and meta_data not needed\n",
    "7. stadium should contain only the stadium_name\n",
    "8. referee should contain only the referee_name.\n",
    "9. create new column 'match_outcome' that have values of win, draw, lose for FCB."
   ]
  },
  {
   "cell_type": "code",
   "execution_count": null,
   "id": "624c0ee9",
   "metadata": {},
   "outputs": [],
   "source": []
  }
 ],
 "metadata": {
  "kernelspec": {
   "display_name": "Python 3 (ipykernel)",
   "language": "python",
   "name": "python3"
  },
  "language_info": {
   "codemirror_mode": {
    "name": "ipython",
    "version": 3
   },
   "file_extension": ".py",
   "mimetype": "text/x-python",
   "name": "python",
   "nbconvert_exporter": "python",
   "pygments_lexer": "ipython3",
   "version": "3.9.12"
  }
 },
 "nbformat": 4,
 "nbformat_minor": 5
}
