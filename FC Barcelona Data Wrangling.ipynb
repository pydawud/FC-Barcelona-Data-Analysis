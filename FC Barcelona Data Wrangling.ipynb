{
 "cells": [
  {
   "cell_type": "markdown",
   "id": "8c583d36",
   "metadata": {},
   "source": [
    "# PART I: DATA WRANGLING (FCB LALIGA MATCHES 2004-2021)"
   ]
  },
  {
   "cell_type": "markdown",
   "id": "7002fac2",
   "metadata": {},
   "source": [
    "## Table of Contents\n",
    "<ul>\n",
    "<li><a href=\"#intro\">Introduction</a></li>\n",
    "<li><a href=\"#collection\">Data Collection</a></li>\n",
    "<li><a href=\"#assess\">Assesment</a></li>\n",
    "<li><a href=\"#clean\">Data Cleaning</a></li>\n",
    "<li><a href=\"#cleaned_data\">Cleaned FCB Dataset</a></li>\n",
    "</ul>"
   ]
  },
  {
   "cell_type": "code",
   "execution_count": 1,
   "id": "8c6ed9c9",
   "metadata": {},
   "outputs": [],
   "source": [
    "#imports\n",
    "import pandas as pd\n",
    "import numpy as np\n",
    "import matplotlib.pyplot as plt\n",
    "import seaborn as sns\n",
    "%matplotlib inline\n",
    "\n",
    "import glob\n",
    "import os"
   ]
  },
  {
   "cell_type": "code",
   "execution_count": 2,
   "id": "20c0f66a",
   "metadata": {},
   "outputs": [],
   "source": [
    "#change the settings for good output\n",
    "pd.set_option('display.max_rows',100)\n",
    "pd.set_option('display.max_columns',20)\n",
    "pd.set_option('display.max_colwidth',200)"
   ]
  },
  {
   "cell_type": "markdown",
   "id": "8cd11312",
   "metadata": {},
   "source": [
    "<a id='collection'></a>\n",
    "## Data Collection"
   ]
  },
  {
   "cell_type": "code",
   "execution_count": 3,
   "id": "88dfbe1f",
   "metadata": {},
   "outputs": [
    {
     "name": "stdout",
     "output_type": "stream",
     "text": [
      "['C:\\\\Data-Analysis-projects\\\\FC Barcelona Data Analysis\\\\Datasets\\\\20042005-FCBarcelona.json', 'C:\\\\Data-Analysis-projects\\\\FC Barcelona Data Analysis\\\\Datasets\\\\20052006-FCBarcelona.json', 'C:\\\\Data-Analysis-projects\\\\FC Barcelona Data Analysis\\\\Datasets\\\\20062007-FCBarcelona.json', 'C:\\\\Data-Analysis-projects\\\\FC Barcelona Data Analysis\\\\Datasets\\\\20072008-FCBarcelona.json', 'C:\\\\Data-Analysis-projects\\\\FC Barcelona Data Analysis\\\\Datasets\\\\20082009-FCBarcelona.json', 'C:\\\\Data-Analysis-projects\\\\FC Barcelona Data Analysis\\\\Datasets\\\\20092010-FCBarcelona.json', 'C:\\\\Data-Analysis-projects\\\\FC Barcelona Data Analysis\\\\Datasets\\\\20102011-FCBarcelona.json', 'C:\\\\Data-Analysis-projects\\\\FC Barcelona Data Analysis\\\\Datasets\\\\20112012-FCBarcelona.json', 'C:\\\\Data-Analysis-projects\\\\FC Barcelona Data Analysis\\\\Datasets\\\\20122013-FCBarcelona.json', 'C:\\\\Data-Analysis-projects\\\\FC Barcelona Data Analysis\\\\Datasets\\\\20132014-FCBarcelona.json', 'C:\\\\Data-Analysis-projects\\\\FC Barcelona Data Analysis\\\\Datasets\\\\20142015-FCBarcelona.json', 'C:\\\\Data-Analysis-projects\\\\FC Barcelona Data Analysis\\\\Datasets\\\\20152016-FCBarcelona.json', 'C:\\\\Data-Analysis-projects\\\\FC Barcelona Data Analysis\\\\Datasets\\\\20162017-FCBarcelona.json', 'C:\\\\Data-Analysis-projects\\\\FC Barcelona Data Analysis\\\\Datasets\\\\20172018-FCBarcelona.json', 'C:\\\\Data-Analysis-projects\\\\FC Barcelona Data Analysis\\\\Datasets\\\\20182019-FCBarcelona.json', 'C:\\\\Data-Analysis-projects\\\\FC Barcelona Data Analysis\\\\Datasets\\\\20192020-FCBarcelona.json', 'C:\\\\Data-Analysis-projects\\\\FC Barcelona Data Analysis\\\\Datasets\\\\20202021-FCBarcelona.json']\n"
     ]
    }
   ],
   "source": [
    "#read the file names and join with its extension (.json)\n",
    "path = 'C:\\Data-Analysis-projects\\FC Barcelona Data Analysis\\Datasets'\n",
    "file_name = glob.glob(os.path.join(path,'*.json'))\n",
    "print(file_name)"
   ]
  },
  {
   "cell_type": "code",
   "execution_count": 4,
   "id": "560cb555",
   "metadata": {},
   "outputs": [],
   "source": [
    "#read the file in pandas and concatenate them to a single dataframe\n",
    "dfs = []\n",
    "for file in file_name:\n",
    "    df = pd.read_json(file)\n",
    "    dfs.append(df)\n",
    "    \n",
    "fcb = pd.concat(dfs, axis=0, ignore_index=True)"
   ]
  },
  {
   "cell_type": "code",
   "execution_count": 5,
   "id": "e452981b",
   "metadata": {},
   "outputs": [
    {
     "data": {
      "text/html": [
       "<div>\n",
       "<style scoped>\n",
       "    .dataframe tbody tr th:only-of-type {\n",
       "        vertical-align: middle;\n",
       "    }\n",
       "\n",
       "    .dataframe tbody tr th {\n",
       "        vertical-align: top;\n",
       "    }\n",
       "\n",
       "    .dataframe thead th {\n",
       "        text-align: right;\n",
       "    }\n",
       "</style>\n",
       "<table border=\"1\" class=\"dataframe\">\n",
       "  <thead>\n",
       "    <tr style=\"text-align: right;\">\n",
       "      <th></th>\n",
       "      <th>match_id</th>\n",
       "      <th>match_date</th>\n",
       "      <th>kick_off</th>\n",
       "      <th>competition</th>\n",
       "      <th>season</th>\n",
       "      <th>home_team</th>\n",
       "      <th>away_team</th>\n",
       "      <th>home_score</th>\n",
       "      <th>away_score</th>\n",
       "      <th>match_status</th>\n",
       "      <th>match_status_360</th>\n",
       "      <th>last_updated</th>\n",
       "      <th>last_updated_360</th>\n",
       "      <th>metadata</th>\n",
       "      <th>match_week</th>\n",
       "      <th>competition_stage</th>\n",
       "      <th>stadium</th>\n",
       "      <th>referee</th>\n",
       "    </tr>\n",
       "  </thead>\n",
       "  <tbody>\n",
       "    <tr>\n",
       "      <th>0</th>\n",
       "      <td>68314</td>\n",
       "      <td>2004-12-04</td>\n",
       "      <td>20:00:00.000</td>\n",
       "      <td>{'competition_id': 11, 'country_name': 'Spain', 'competition_name': 'La Liga'}</td>\n",
       "      <td>{'season_id': 37, 'season_name': '2004/2005'}</td>\n",
       "      <td>{'home_team_id': 217, 'home_team_name': 'Barcelona', 'home_team_gender': 'male', 'home_team_group': None, 'country': {'id': 214, 'name': 'Spain'}, 'managers': [{'id': 4953, 'name': 'Frank Rijkaard...</td>\n",
       "      <td>{'away_team_id': 223, 'away_team_name': 'Málaga', 'away_team_gender': 'male', 'away_team_group': None, 'country': {'id': 214, 'name': 'Spain'}, 'managers': [{'id': 4994, 'name': 'Gregorio Manzano ...</td>\n",
       "      <td>4</td>\n",
       "      <td>0</td>\n",
       "      <td>available</td>\n",
       "      <td>scheduled</td>\n",
       "      <td>2020-07-29T05:00</td>\n",
       "      <td>2021-06-13T16:17:31.694</td>\n",
       "      <td>{'data_version': '1.1.0', 'shot_fidelity_version': '2', 'xy_fidelity_version': '2'}</td>\n",
       "      <td>14</td>\n",
       "      <td>{'id': 1, 'name': 'Regular Season'}</td>\n",
       "      <td>{'id': 342, 'name': 'Camp Nou', 'country': {'id': 214, 'name': 'Spain'}}</td>\n",
       "      <td>{'id': 993, 'name': 'José Omar Losantos', 'country': {'id': 214, 'name': 'Spain'}}</td>\n",
       "    </tr>\n",
       "    <tr>\n",
       "      <th>1</th>\n",
       "      <td>68313</td>\n",
       "      <td>2004-10-24</td>\n",
       "      <td>21:00:00.000</td>\n",
       "      <td>{'competition_id': 11, 'country_name': 'Spain', 'competition_name': 'La Liga'}</td>\n",
       "      <td>{'season_id': 37, 'season_name': '2004/2005'}</td>\n",
       "      <td>{'home_team_id': 217, 'home_team_name': 'Barcelona', 'home_team_gender': 'male', 'home_team_group': None, 'country': {'id': 214, 'name': 'Spain'}, 'managers': [{'id': 4953, 'name': 'Frank Rijkaard...</td>\n",
       "      <td>{'away_team_id': 422, 'away_team_name': 'Osasuna', 'away_team_gender': 'male', 'away_team_group': None, 'country': {'id': 214, 'name': 'Spain'}, 'managers': [{'id': 3196, 'name': 'Javier Aguirre O...</td>\n",
       "      <td>3</td>\n",
       "      <td>0</td>\n",
       "      <td>available</td>\n",
       "      <td>scheduled</td>\n",
       "      <td>2020-07-29T05:00</td>\n",
       "      <td>2021-06-13T16:17:31.694</td>\n",
       "      <td>{'data_version': '1.1.0', 'shot_fidelity_version': '2', 'xy_fidelity_version': '2'}</td>\n",
       "      <td>8</td>\n",
       "      <td>{'id': 1, 'name': 'Regular Season'}</td>\n",
       "      <td>{'id': 342, 'name': 'Camp Nou', 'country': {'id': 214, 'name': 'Spain'}}</td>\n",
       "      <td>{'id': 994, 'name': 'Vicente José Lizondo Cortés', 'country': {'id': 214, 'name': 'Spain'}}</td>\n",
       "    </tr>\n",
       "    <tr>\n",
       "      <th>2</th>\n",
       "      <td>68316</td>\n",
       "      <td>2005-05-01</td>\n",
       "      <td>19:00:00.000</td>\n",
       "      <td>{'competition_id': 11, 'country_name': 'Spain', 'competition_name': 'La Liga'}</td>\n",
       "      <td>{'season_id': 37, 'season_name': '2004/2005'}</td>\n",
       "      <td>{'home_team_id': 217, 'home_team_name': 'Barcelona', 'home_team_gender': 'male', 'home_team_group': None, 'country': {'id': 214, 'name': 'Spain'}, 'managers': [{'id': 4953, 'name': 'Frank Rijkaard...</td>\n",
       "      <td>{'away_team_id': 608, 'away_team_name': 'Albacete', 'away_team_gender': 'male', 'away_team_group': None, 'country': {'id': 214, 'name': 'Spain'}, 'managers': [{'id': 6233, 'name': 'Martín Monteagu...</td>\n",
       "      <td>2</td>\n",
       "      <td>0</td>\n",
       "      <td>available</td>\n",
       "      <td>scheduled</td>\n",
       "      <td>2020-07-29T05:00</td>\n",
       "      <td>2021-06-13T16:17:31.694</td>\n",
       "      <td>{'data_version': '1.1.0', 'shot_fidelity_version': '2', 'xy_fidelity_version': '2'}</td>\n",
       "      <td>34</td>\n",
       "      <td>{'id': 1, 'name': 'Regular Season'}</td>\n",
       "      <td>{'id': 342, 'name': 'Camp Nou', 'country': {'id': 214, 'name': 'Spain'}}</td>\n",
       "      <td>{'id': 2535, 'name': 'Carlos Velasco Carballo', 'country': {'id': 214, 'name': 'Spain'}}</td>\n",
       "    </tr>\n",
       "  </tbody>\n",
       "</table>\n",
       "</div>"
      ],
      "text/plain": [
       "   match_id  match_date      kick_off  \\\n",
       "0     68314  2004-12-04  20:00:00.000   \n",
       "1     68313  2004-10-24  21:00:00.000   \n",
       "2     68316  2005-05-01  19:00:00.000   \n",
       "\n",
       "                                                                      competition  \\\n",
       "0  {'competition_id': 11, 'country_name': 'Spain', 'competition_name': 'La Liga'}   \n",
       "1  {'competition_id': 11, 'country_name': 'Spain', 'competition_name': 'La Liga'}   \n",
       "2  {'competition_id': 11, 'country_name': 'Spain', 'competition_name': 'La Liga'}   \n",
       "\n",
       "                                          season  \\\n",
       "0  {'season_id': 37, 'season_name': '2004/2005'}   \n",
       "1  {'season_id': 37, 'season_name': '2004/2005'}   \n",
       "2  {'season_id': 37, 'season_name': '2004/2005'}   \n",
       "\n",
       "                                                                                                                                                                                                 home_team  \\\n",
       "0  {'home_team_id': 217, 'home_team_name': 'Barcelona', 'home_team_gender': 'male', 'home_team_group': None, 'country': {'id': 214, 'name': 'Spain'}, 'managers': [{'id': 4953, 'name': 'Frank Rijkaard...   \n",
       "1  {'home_team_id': 217, 'home_team_name': 'Barcelona', 'home_team_gender': 'male', 'home_team_group': None, 'country': {'id': 214, 'name': 'Spain'}, 'managers': [{'id': 4953, 'name': 'Frank Rijkaard...   \n",
       "2  {'home_team_id': 217, 'home_team_name': 'Barcelona', 'home_team_gender': 'male', 'home_team_group': None, 'country': {'id': 214, 'name': 'Spain'}, 'managers': [{'id': 4953, 'name': 'Frank Rijkaard...   \n",
       "\n",
       "                                                                                                                                                                                                 away_team  \\\n",
       "0  {'away_team_id': 223, 'away_team_name': 'Málaga', 'away_team_gender': 'male', 'away_team_group': None, 'country': {'id': 214, 'name': 'Spain'}, 'managers': [{'id': 4994, 'name': 'Gregorio Manzano ...   \n",
       "1  {'away_team_id': 422, 'away_team_name': 'Osasuna', 'away_team_gender': 'male', 'away_team_group': None, 'country': {'id': 214, 'name': 'Spain'}, 'managers': [{'id': 3196, 'name': 'Javier Aguirre O...   \n",
       "2  {'away_team_id': 608, 'away_team_name': 'Albacete', 'away_team_gender': 'male', 'away_team_group': None, 'country': {'id': 214, 'name': 'Spain'}, 'managers': [{'id': 6233, 'name': 'Martín Monteagu...   \n",
       "\n",
       "   home_score  away_score match_status match_status_360      last_updated  \\\n",
       "0           4           0    available        scheduled  2020-07-29T05:00   \n",
       "1           3           0    available        scheduled  2020-07-29T05:00   \n",
       "2           2           0    available        scheduled  2020-07-29T05:00   \n",
       "\n",
       "          last_updated_360  \\\n",
       "0  2021-06-13T16:17:31.694   \n",
       "1  2021-06-13T16:17:31.694   \n",
       "2  2021-06-13T16:17:31.694   \n",
       "\n",
       "                                                                              metadata  \\\n",
       "0  {'data_version': '1.1.0', 'shot_fidelity_version': '2', 'xy_fidelity_version': '2'}   \n",
       "1  {'data_version': '1.1.0', 'shot_fidelity_version': '2', 'xy_fidelity_version': '2'}   \n",
       "2  {'data_version': '1.1.0', 'shot_fidelity_version': '2', 'xy_fidelity_version': '2'}   \n",
       "\n",
       "   match_week                    competition_stage  \\\n",
       "0          14  {'id': 1, 'name': 'Regular Season'}   \n",
       "1           8  {'id': 1, 'name': 'Regular Season'}   \n",
       "2          34  {'id': 1, 'name': 'Regular Season'}   \n",
       "\n",
       "                                                                    stadium  \\\n",
       "0  {'id': 342, 'name': 'Camp Nou', 'country': {'id': 214, 'name': 'Spain'}}   \n",
       "1  {'id': 342, 'name': 'Camp Nou', 'country': {'id': 214, 'name': 'Spain'}}   \n",
       "2  {'id': 342, 'name': 'Camp Nou', 'country': {'id': 214, 'name': 'Spain'}}   \n",
       "\n",
       "                                                                                       referee  \n",
       "0           {'id': 993, 'name': 'José Omar Losantos', 'country': {'id': 214, 'name': 'Spain'}}  \n",
       "1  {'id': 994, 'name': 'Vicente José Lizondo Cortés', 'country': {'id': 214, 'name': 'Spain'}}  \n",
       "2     {'id': 2535, 'name': 'Carlos Velasco Carballo', 'country': {'id': 214, 'name': 'Spain'}}  "
      ]
     },
     "execution_count": 5,
     "metadata": {},
     "output_type": "execute_result"
    }
   ],
   "source": [
    "#first 5 data\n",
    "fcb.head(3)"
   ]
  },
  {
   "cell_type": "code",
   "execution_count": 6,
   "id": "baca4927",
   "metadata": {},
   "outputs": [
    {
     "name": "stdout",
     "output_type": "stream",
     "text": [
      "<class 'pandas.core.frame.DataFrame'>\n",
      "RangeIndex: 520 entries, 0 to 519\n",
      "Data columns (total 18 columns):\n",
      " #   Column             Non-Null Count  Dtype \n",
      "---  ------             --------------  ----- \n",
      " 0   match_id           520 non-null    int64 \n",
      " 1   match_date         520 non-null    object\n",
      " 2   kick_off           520 non-null    object\n",
      " 3   competition        520 non-null    object\n",
      " 4   season             520 non-null    object\n",
      " 5   home_team          520 non-null    object\n",
      " 6   away_team          520 non-null    object\n",
      " 7   home_score         520 non-null    int64 \n",
      " 8   away_score         520 non-null    int64 \n",
      " 9   match_status       520 non-null    object\n",
      " 10  match_status_360   520 non-null    object\n",
      " 11  last_updated       520 non-null    object\n",
      " 12  last_updated_360   520 non-null    object\n",
      " 13  metadata           520 non-null    object\n",
      " 14  match_week         520 non-null    int64 \n",
      " 15  competition_stage  520 non-null    object\n",
      " 16  stadium            520 non-null    object\n",
      " 17  referee            405 non-null    object\n",
      "dtypes: int64(4), object(14)\n",
      "memory usage: 73.2+ KB\n"
     ]
    }
   ],
   "source": [
    "#basic info like the shape, datatypes and null values\n",
    "fcb.info()"
   ]
  },
  {
   "cell_type": "markdown",
   "id": "4d33212b",
   "metadata": {},
   "source": [
    "> The dataset has 520 matches played with 18 columns information, only referee has missing values and some datatypes need to change"
   ]
  },
  {
   "cell_type": "code",
   "execution_count": 7,
   "id": "8e124baf",
   "metadata": {},
   "outputs": [
    {
     "data": {
      "text/html": [
       "<div>\n",
       "<style scoped>\n",
       "    .dataframe tbody tr th:only-of-type {\n",
       "        vertical-align: middle;\n",
       "    }\n",
       "\n",
       "    .dataframe tbody tr th {\n",
       "        vertical-align: top;\n",
       "    }\n",
       "\n",
       "    .dataframe thead th {\n",
       "        text-align: right;\n",
       "    }\n",
       "</style>\n",
       "<table border=\"1\" class=\"dataframe\">\n",
       "  <thead>\n",
       "    <tr style=\"text-align: right;\">\n",
       "      <th></th>\n",
       "      <th>match_id</th>\n",
       "      <th>home_score</th>\n",
       "      <th>away_score</th>\n",
       "      <th>match_week</th>\n",
       "    </tr>\n",
       "  </thead>\n",
       "  <tbody>\n",
       "    <tr>\n",
       "      <th>count</th>\n",
       "      <td>5.200000e+02</td>\n",
       "      <td>520.000000</td>\n",
       "      <td>520.000000</td>\n",
       "      <td>520.000000</td>\n",
       "    </tr>\n",
       "    <tr>\n",
       "      <th>mean</th>\n",
       "      <td>3.744410e+05</td>\n",
       "      <td>1.982692</td>\n",
       "      <td>1.500000</td>\n",
       "      <td>19.457692</td>\n",
       "    </tr>\n",
       "    <tr>\n",
       "      <th>std</th>\n",
       "      <td>9.194129e+05</td>\n",
       "      <td>1.723041</td>\n",
       "      <td>1.492434</td>\n",
       "      <td>10.777579</td>\n",
       "    </tr>\n",
       "    <tr>\n",
       "      <th>min</th>\n",
       "      <td>9.575000e+03</td>\n",
       "      <td>0.000000</td>\n",
       "      <td>0.000000</td>\n",
       "      <td>1.000000</td>\n",
       "    </tr>\n",
       "    <tr>\n",
       "      <th>25%</th>\n",
       "      <td>6.915675e+04</td>\n",
       "      <td>1.000000</td>\n",
       "      <td>0.000000</td>\n",
       "      <td>10.000000</td>\n",
       "    </tr>\n",
       "    <tr>\n",
       "      <th>50%</th>\n",
       "      <td>6.932250e+04</td>\n",
       "      <td>2.000000</td>\n",
       "      <td>1.000000</td>\n",
       "      <td>20.000000</td>\n",
       "    </tr>\n",
       "    <tr>\n",
       "      <th>75%</th>\n",
       "      <td>2.667258e+05</td>\n",
       "      <td>3.000000</td>\n",
       "      <td>2.000000</td>\n",
       "      <td>29.000000</td>\n",
       "    </tr>\n",
       "    <tr>\n",
       "      <th>max</th>\n",
       "      <td>3.773695e+06</td>\n",
       "      <td>8.000000</td>\n",
       "      <td>8.000000</td>\n",
       "      <td>38.000000</td>\n",
       "    </tr>\n",
       "  </tbody>\n",
       "</table>\n",
       "</div>"
      ],
      "text/plain": [
       "           match_id  home_score  away_score  match_week\n",
       "count  5.200000e+02  520.000000  520.000000  520.000000\n",
       "mean   3.744410e+05    1.982692    1.500000   19.457692\n",
       "std    9.194129e+05    1.723041    1.492434   10.777579\n",
       "min    9.575000e+03    0.000000    0.000000    1.000000\n",
       "25%    6.915675e+04    1.000000    0.000000   10.000000\n",
       "50%    6.932250e+04    2.000000    1.000000   20.000000\n",
       "75%    2.667258e+05    3.000000    2.000000   29.000000\n",
       "max    3.773695e+06    8.000000    8.000000   38.000000"
      ]
     },
     "execution_count": 7,
     "metadata": {},
     "output_type": "execute_result"
    }
   ],
   "source": [
    "# descriptive statistics\n",
    "fcb.describe()"
   ]
  },
  {
   "cell_type": "markdown",
   "id": "0865e5a0",
   "metadata": {},
   "source": [
    "> We can see the maximum score is 8 goals, minimum is obviously zero, and an average of 2 goals precisely. "
   ]
  },
  {
   "cell_type": "code",
   "execution_count": 8,
   "id": "b9e5aca7",
   "metadata": {},
   "outputs": [
    {
     "data": {
      "text/plain": [
       "False"
      ]
     },
     "execution_count": 8,
     "metadata": {},
     "output_type": "execute_result"
    }
   ],
   "source": [
    "#check for duplicates\n",
    "fcb['match_id'].duplicated().any()"
   ]
  },
  {
   "cell_type": "code",
   "execution_count": 9,
   "id": "5b37a79e",
   "metadata": {},
   "outputs": [
    {
     "data": {
      "text/plain": [
       "{'competition_id': 11, 'country_name': 'Spain', 'competition_name': 'La Liga'}    520\n",
       "Name: competition, dtype: int64"
      ]
     },
     "execution_count": 9,
     "metadata": {},
     "output_type": "execute_result"
    }
   ],
   "source": [
    "#check the competition column\n",
    "fcb['competition'].value_counts()"
   ]
  },
  {
   "cell_type": "markdown",
   "id": "f23f1f4b",
   "metadata": {},
   "source": [
    "> it's has only a single value object. it should be discarded"
   ]
  },
  {
   "cell_type": "code",
   "execution_count": 10,
   "id": "a7c03746",
   "metadata": {},
   "outputs": [
    {
     "data": {
      "text/plain": [
       "{'season_id': 26, 'season_name': '2014/2015'}    38\n",
       "{'season_id': 23, 'season_name': '2011/2012'}    37\n",
       "{'season_id': 1, 'season_name': '2017/2018'}     36\n",
       "{'season_id': 90, 'season_name': '2020/2021'}    35\n",
       "{'season_id': 21, 'season_name': '2009/2010'}    35\n",
       "{'season_id': 4, 'season_name': '2018/2019'}     34\n",
       "{'season_id': 2, 'season_name': '2016/2017'}     34\n",
       "{'season_id': 42, 'season_name': '2019/2020'}    33\n",
       "{'season_id': 22, 'season_name': '2010/2011'}    33\n",
       "{'season_id': 27, 'season_name': '2015/2016'}    33\n",
       "{'season_id': 24, 'season_name': '2012/2013'}    32\n",
       "{'season_id': 25, 'season_name': '2013/2014'}    31\n",
       "{'season_id': 41, 'season_name': '2008/2009'}    31\n",
       "{'season_id': 40, 'season_name': '2007/2008'}    28\n",
       "{'season_id': 39, 'season_name': '2006/2007'}    26\n",
       "{'season_id': 38, 'season_name': '2005/2006'}    17\n",
       "{'season_id': 37, 'season_name': '2004/2005'}     7\n",
       "Name: season, dtype: int64"
      ]
     },
     "execution_count": 10,
     "metadata": {},
     "output_type": "execute_result"
    }
   ],
   "source": [
    "#check the season column\n",
    "fcb['season'].value_counts()"
   ]
  },
  {
   "cell_type": "markdown",
   "id": "c9a0ec6b",
   "metadata": {},
   "source": [
    "> we will retain only the season_name and discard the remaining data"
   ]
  },
  {
   "cell_type": "code",
   "execution_count": 11,
   "id": "f65c0182",
   "metadata": {},
   "outputs": [
    {
     "data": {
      "text/html": [
       "<div>\n",
       "<style scoped>\n",
       "    .dataframe tbody tr th:only-of-type {\n",
       "        vertical-align: middle;\n",
       "    }\n",
       "\n",
       "    .dataframe tbody tr th {\n",
       "        vertical-align: top;\n",
       "    }\n",
       "\n",
       "    .dataframe thead th {\n",
       "        text-align: right;\n",
       "    }\n",
       "</style>\n",
       "<table border=\"1\" class=\"dataframe\">\n",
       "  <thead>\n",
       "    <tr style=\"text-align: right;\">\n",
       "      <th></th>\n",
       "      <th>home_team</th>\n",
       "      <th>away_team</th>\n",
       "    </tr>\n",
       "  </thead>\n",
       "  <tbody>\n",
       "    <tr>\n",
       "      <th>83</th>\n",
       "      <td>{'home_team_id': 1217, 'home_team_name': 'Racing Santander', 'home_team_gender': 'male', 'home_team_group': None, 'country': {'id': 214, 'name': 'Spain'}, 'managers': [{'id': 2, 'name': 'Juan Ramó...</td>\n",
       "      <td>{'away_team_id': 217, 'away_team_name': 'Barcelona', 'away_team_gender': 'male', 'away_team_group': None, 'country': {'id': 214, 'name': 'Spain'}, 'managers': [{'id': 36, 'name': 'Josep Guardiola ...</td>\n",
       "    </tr>\n",
       "    <tr>\n",
       "      <th>18</th>\n",
       "      <td>{'home_team_id': 1043, 'home_team_name': 'Mallorca', 'home_team_gender': 'male', 'home_team_group': None, 'country': {'id': 214, 'name': 'Spain'}, 'managers': [{'id': 486, 'name': 'Héctor Raúl Cúp...</td>\n",
       "      <td>{'away_team_id': 217, 'away_team_name': 'Barcelona', 'away_team_gender': 'male', 'away_team_group': None, 'country': {'id': 214, 'name': 'Spain'}, 'managers': [{'id': 4953, 'name': 'Frank Rijkaard...</td>\n",
       "    </tr>\n",
       "    <tr>\n",
       "      <th>151</th>\n",
       "      <td>{'home_team_id': 217, 'home_team_name': 'Barcelona', 'home_team_gender': 'male', 'home_team_group': None, 'country': {'id': 214, 'name': 'Spain'}, 'managers': [{'id': 36, 'name': 'Josep Guardiola ...</td>\n",
       "      <td>{'away_team_id': 1217, 'away_team_name': 'Racing Santander', 'away_team_gender': 'male', 'away_team_group': None, 'country': {'id': 214, 'name': 'Spain'}, 'managers': [{'id': 4954, 'name': 'Miguel...</td>\n",
       "    </tr>\n",
       "  </tbody>\n",
       "</table>\n",
       "</div>"
      ],
      "text/plain": [
       "                                                                                                                                                                                                   home_team  \\\n",
       "83   {'home_team_id': 1217, 'home_team_name': 'Racing Santander', 'home_team_gender': 'male', 'home_team_group': None, 'country': {'id': 214, 'name': 'Spain'}, 'managers': [{'id': 2, 'name': 'Juan Ramó...   \n",
       "18   {'home_team_id': 1043, 'home_team_name': 'Mallorca', 'home_team_gender': 'male', 'home_team_group': None, 'country': {'id': 214, 'name': 'Spain'}, 'managers': [{'id': 486, 'name': 'Héctor Raúl Cúp...   \n",
       "151  {'home_team_id': 217, 'home_team_name': 'Barcelona', 'home_team_gender': 'male', 'home_team_group': None, 'country': {'id': 214, 'name': 'Spain'}, 'managers': [{'id': 36, 'name': 'Josep Guardiola ...   \n",
       "\n",
       "                                                                                                                                                                                                   away_team  \n",
       "83   {'away_team_id': 217, 'away_team_name': 'Barcelona', 'away_team_gender': 'male', 'away_team_group': None, 'country': {'id': 214, 'name': 'Spain'}, 'managers': [{'id': 36, 'name': 'Josep Guardiola ...  \n",
       "18   {'away_team_id': 217, 'away_team_name': 'Barcelona', 'away_team_gender': 'male', 'away_team_group': None, 'country': {'id': 214, 'name': 'Spain'}, 'managers': [{'id': 4953, 'name': 'Frank Rijkaard...  \n",
       "151  {'away_team_id': 1217, 'away_team_name': 'Racing Santander', 'away_team_gender': 'male', 'away_team_group': None, 'country': {'id': 214, 'name': 'Spain'}, 'managers': [{'id': 4954, 'name': 'Miguel...  "
      ]
     },
     "execution_count": 11,
     "metadata": {},
     "output_type": "execute_result"
    }
   ],
   "source": [
    "#inspect home team and team\n",
    "fcb[['home_team','away_team']].sample(3)"
   ]
  },
  {
   "cell_type": "markdown",
   "id": "99bc4c8c",
   "metadata": {},
   "source": [
    "> we will extract home_team_name and home_manager likewise away_team_name and away_team-manager"
   ]
  },
  {
   "cell_type": "code",
   "execution_count": 12,
   "id": "eff69b16",
   "metadata": {},
   "outputs": [
    {
     "data": {
      "text/plain": [
       "available    520\n",
       "Name: match_status, dtype: int64"
      ]
     },
     "execution_count": 12,
     "metadata": {},
     "output_type": "execute_result"
    }
   ],
   "source": [
    "#inspect match_status\n",
    "fcb['match_status'].value_counts() "
   ]
  },
  {
   "cell_type": "markdown",
   "id": "42a3af58",
   "metadata": {},
   "source": [
    "> match status is unique, we will discard it"
   ]
  },
  {
   "cell_type": "code",
   "execution_count": 13,
   "id": "ecf70b37",
   "metadata": {},
   "outputs": [
    {
     "data": {
      "text/plain": [
       "scheduled     485\n",
       "available      34\n",
       "processing      1\n",
       "Name: match_status_360, dtype: int64"
      ]
     },
     "execution_count": 13,
     "metadata": {},
     "output_type": "execute_result"
    }
   ],
   "source": [
    "#inspect match_status_360\n",
    "fcb['match_status_360'].value_counts()"
   ]
  },
  {
   "cell_type": "code",
   "execution_count": 14,
   "id": "e3a5ed36",
   "metadata": {},
   "outputs": [
    {
     "data": {
      "text/plain": [
       "{'data_version': '1.1.0', 'shot_fidelity_version': '2', 'xy_fidelity_version': '2'}    465\n",
       "{'data_version': '1.1.0', 'shot_fidelity_version': '2'}                                 26\n",
       "{'data_version': '1.0.2', 'shot_fidelity_version': '2'}                                 16\n",
       "{'data_version': '1.0.3', 'shot_fidelity_version': '2'}                                 13\n",
       "Name: metadata, dtype: int64"
      ]
     },
     "execution_count": 14,
     "metadata": {},
     "output_type": "execute_result"
    }
   ],
   "source": [
    "#inspect meta data\n",
    "fcb['metadata'].value_counts()"
   ]
  },
  {
   "cell_type": "markdown",
   "id": "52d6c3a3",
   "metadata": {},
   "source": [
    "> Not important for our analysis"
   ]
  },
  {
   "cell_type": "code",
   "execution_count": 15,
   "id": "076310cb",
   "metadata": {},
   "outputs": [
    {
     "data": {
      "text/plain": [
       "{'id': 1, 'name': 'Regular Season'}    520\n",
       "Name: competition_stage, dtype: int64"
      ]
     },
     "execution_count": 15,
     "metadata": {},
     "output_type": "execute_result"
    }
   ],
   "source": [
    "#inspect competition stage\n",
    "fcb['competition_stage'].value_counts()"
   ]
  },
  {
   "cell_type": "markdown",
   "id": "3f7bfca8",
   "metadata": {},
   "source": [
    "> has unique values, it shall be discarded"
   ]
  },
  {
   "cell_type": "code",
   "execution_count": 16,
   "id": "0d476f19",
   "metadata": {},
   "outputs": [
    {
     "data": {
      "text/plain": [
       "{'id': 342, 'name': 'Camp Nou', 'country': {'id': 214, 'name': 'Spain'}}                         262\n",
       "{'id': 361, 'name': 'Estadio de la Cerámica', 'country': {'id': 214, 'name': 'Spain'}}            15\n",
       "{'id': 353, 'name': 'Estadio Santiago Bernabéu', 'country': {'id': 214, 'name': 'Spain'}}         15\n",
       "{'id': 344, 'name': 'Estadio de Mestalla', 'country': {'id': 214, 'name': 'Spain'}}               15\n",
       "{'id': 349, 'name': 'Estadio Ramón Sánchez Pizjuán', 'country': {'id': 214, 'name': 'Spain'}}     14\n",
       "Name: stadium, dtype: int64"
      ]
     },
     "execution_count": 16,
     "metadata": {},
     "output_type": "execute_result"
    }
   ],
   "source": [
    "#inspect stadium\n",
    "fcb['stadium'].value_counts().head()"
   ]
  },
  {
   "cell_type": "markdown",
   "id": "8ddbb38c",
   "metadata": {},
   "source": [
    "> we will extract only the stadium name"
   ]
  },
  {
   "cell_type": "code",
   "execution_count": 17,
   "id": "d8cf8a91",
   "metadata": {},
   "outputs": [
    {
     "data": {
      "text/plain": [
       "{'id': 221, 'name': 'Alberto Undiano Mallenco', 'country': {'id': 214, 'name': 'Spain'}}      33\n",
       "{'id': 180, 'name': 'Antonio Miguel Mateu Lahoz', 'country': {'id': 214, 'name': 'Spain'}}    32\n",
       "{'id': 222, 'name': 'David Fernández Borbalan', 'country': {'id': 214, 'name': 'Spain'}}      30\n",
       "{'id': 1008, 'name': 'Carlos Clos Gómez', 'country': {'id': 214, 'name': 'Spain'}}            20\n",
       "{'id': 1003, 'name': 'Fernando Teixeira', 'country': {'id': 214, 'name': 'Spain'}}            20\n",
       "Name: referee, dtype: int64"
      ]
     },
     "execution_count": 17,
     "metadata": {},
     "output_type": "execute_result"
    }
   ],
   "source": [
    "#inspect referee\n",
    "fcb['referee'].value_counts().head()"
   ]
  },
  {
   "cell_type": "markdown",
   "id": "15cf42d4",
   "metadata": {},
   "source": [
    "> we will extract only the referee name"
   ]
  },
  {
   "cell_type": "markdown",
   "id": "8008a0aa",
   "metadata": {},
   "source": [
    "<a id='assess'></a>\n",
    "## Assessment\n",
    "1. match_date, kick_off should be datetime\n",
    "2. competition, competition_stafe, and match_status are unique (not important for our analysis) and last_updated, last_updated_360, and meta_data are not needed.\n",
    "3. season should have only the season_name (For example, 2004/2005)\n",
    "4. home_team and away_team should consist of only home_team name, also we can extract manager from it.\n",
    "5. stadium and referee should contain only the name\n",
    "6. create new column 'match_outcome' that have values of win, draw, lose for FCB."
   ]
  },
  {
   "cell_type": "code",
   "execution_count": 18,
   "id": "43fdae28",
   "metadata": {},
   "outputs": [],
   "source": [
    "#copy the data before cleaning\n",
    "fcb_df = fcb.copy()"
   ]
  },
  {
   "cell_type": "markdown",
   "id": "668089a6",
   "metadata": {},
   "source": [
    "<a id='clean'></a>\n",
    "## Data Cleaning"
   ]
  },
  {
   "cell_type": "markdown",
   "id": "c0f51530",
   "metadata": {},
   "source": [
    "**Issue #1:** match_date and kick_off should be datetime\n",
    "#### Define\n",
    "Use `.astype()` to convert it to datetime datatype.\n",
    "#### Code"
   ]
  },
  {
   "cell_type": "code",
   "execution_count": 19,
   "id": "b4886a22",
   "metadata": {},
   "outputs": [],
   "source": [
    "fcb_df['match_date'] = fcb_df['match_date'].astype('datetime64')\n",
    "fcb_df['kick_off'] = fcb_df['kick_off'].astype('datetime64').dt.time"
   ]
  },
  {
   "cell_type": "markdown",
   "id": "b7041db0",
   "metadata": {},
   "source": [
    "#### Test"
   ]
  },
  {
   "cell_type": "code",
   "execution_count": 20,
   "id": "e7ef509d",
   "metadata": {},
   "outputs": [
    {
     "data": {
      "text/plain": [
       "match_date    datetime64[ns]\n",
       "kick_off              object\n",
       "dtype: object"
      ]
     },
     "execution_count": 20,
     "metadata": {},
     "output_type": "execute_result"
    }
   ],
   "source": [
    "fcb_df[['match_date','kick_off']].dtypes"
   ]
  },
  {
   "cell_type": "markdown",
   "id": "3a91abc3",
   "metadata": {},
   "source": [
    "**Issue #2:** competition, competition_stage, and match_status are unique (not important for our analysis) and last_updated, last_updated_360, match_status_360 and metadata are not needed.\n",
    "#### Define\n",
    "Use `.drop()` to discard the unwanted columns.\n",
    "#### Code"
   ]
  },
  {
   "cell_type": "code",
   "execution_count": 21,
   "id": "2fc5e280",
   "metadata": {},
   "outputs": [],
   "source": [
    "cols_drop = ['competition','competition_stage','match_status','last_updated','last_updated_360','metadata','match_status_360']\n",
    "fcb_df.drop(cols_drop, axis=1, inplace=True)"
   ]
  },
  {
   "cell_type": "markdown",
   "id": "dddb7952",
   "metadata": {},
   "source": [
    "#### Test"
   ]
  },
  {
   "cell_type": "code",
   "execution_count": 22,
   "id": "9fcb09c3",
   "metadata": {},
   "outputs": [],
   "source": [
    "assert ~fcb_df.columns.isin(cols_drop).any()"
   ]
  },
  {
   "cell_type": "markdown",
   "id": "7035b934",
   "metadata": {},
   "source": [
    "**Issue #3:** season should have only the season_name (For example, 2004/2005)\n",
    "#### Define\n",
    "Use the key attribute pairs of json and extract the season name, and drop the competition column.\n",
    "#### Code"
   ]
  },
  {
   "cell_type": "code",
   "execution_count": 23,
   "id": "0e80d8ba",
   "metadata": {},
   "outputs": [],
   "source": [
    "fcb_df['season'] = fcb_df['season'].str.get('season_name')"
   ]
  },
  {
   "cell_type": "markdown",
   "id": "89f16e76",
   "metadata": {},
   "source": [
    "#### Test"
   ]
  },
  {
   "cell_type": "code",
   "execution_count": 24,
   "id": "0f360085",
   "metadata": {},
   "outputs": [
    {
     "data": {
      "text/plain": [
       "2014/2015    38\n",
       "2011/2012    37\n",
       "2017/2018    36\n",
       "2020/2021    35\n",
       "2009/2010    35\n",
       "2018/2019    34\n",
       "2016/2017    34\n",
       "2019/2020    33\n",
       "2010/2011    33\n",
       "2015/2016    33\n",
       "2012/2013    32\n",
       "2013/2014    31\n",
       "2008/2009    31\n",
       "2007/2008    28\n",
       "2006/2007    26\n",
       "2005/2006    17\n",
       "2004/2005     7\n",
       "Name: season, dtype: int64"
      ]
     },
     "execution_count": 24,
     "metadata": {},
     "output_type": "execute_result"
    }
   ],
   "source": [
    "fcb_df['season'].value_counts()"
   ]
  },
  {
   "cell_type": "markdown",
   "id": "3edaa1d4",
   "metadata": {},
   "source": [
    "**Issue #4:** home_team and away_team should consist of only home_team name, also we can extract managers from it.\n",
    "#### Define\n",
    "Use the key attribute pairs of json and extract the team and its managers. discard the unwanted values.\n",
    "#### Code"
   ]
  },
  {
   "cell_type": "code",
   "execution_count": 25,
   "id": "095147d0",
   "metadata": {},
   "outputs": [],
   "source": [
    "def extract_team_managers(col,df=fcb_df):\n",
    "    '''\n",
    "    This function extract team and its manager from col.\n",
    "    '''\n",
    "    managers = []\n",
    "    for i in range(df.shape[0]):\n",
    "        if df[col].str.get('managers')[i] is None:\n",
    "            managers.append(np.NaN)\n",
    "        else:\n",
    "            managers.append(df[col].str.get('managers')[i][0].get('name'))\n",
    "    #assign the array to dataframe\n",
    "    df[col+'_managers'] = managers\n",
    "    \n",
    "    #home team\n",
    "    df[col] = df[col].str.get(col+'_name')\n",
    "    "
   ]
  },
  {
   "cell_type": "code",
   "execution_count": 26,
   "id": "743aee5c",
   "metadata": {},
   "outputs": [],
   "source": [
    "extract_team_managers('home_team')\n",
    "extract_team_managers('away_team')"
   ]
  },
  {
   "cell_type": "markdown",
   "id": "8654029d",
   "metadata": {},
   "source": [
    "#### Test"
   ]
  },
  {
   "cell_type": "code",
   "execution_count": 27,
   "id": "ea56c747",
   "metadata": {},
   "outputs": [
    {
     "data": {
      "text/html": [
       "<div>\n",
       "<style scoped>\n",
       "    .dataframe tbody tr th:only-of-type {\n",
       "        vertical-align: middle;\n",
       "    }\n",
       "\n",
       "    .dataframe tbody tr th {\n",
       "        vertical-align: top;\n",
       "    }\n",
       "\n",
       "    .dataframe thead th {\n",
       "        text-align: right;\n",
       "    }\n",
       "</style>\n",
       "<table border=\"1\" class=\"dataframe\">\n",
       "  <thead>\n",
       "    <tr style=\"text-align: right;\">\n",
       "      <th></th>\n",
       "      <th>home_team</th>\n",
       "      <th>home_team_managers</th>\n",
       "      <th>away_team</th>\n",
       "      <th>away_team_managers</th>\n",
       "    </tr>\n",
       "  </thead>\n",
       "  <tbody>\n",
       "    <tr>\n",
       "      <th>0</th>\n",
       "      <td>Barcelona</td>\n",
       "      <td>Frank Rijkaard</td>\n",
       "      <td>Málaga</td>\n",
       "      <td>Gregorio Manzano Ballesteros</td>\n",
       "    </tr>\n",
       "    <tr>\n",
       "      <th>1</th>\n",
       "      <td>Barcelona</td>\n",
       "      <td>Frank Rijkaard</td>\n",
       "      <td>Osasuna</td>\n",
       "      <td>Javier Aguirre Onaindía</td>\n",
       "    </tr>\n",
       "    <tr>\n",
       "      <th>2</th>\n",
       "      <td>Barcelona</td>\n",
       "      <td>Frank Rijkaard</td>\n",
       "      <td>Albacete</td>\n",
       "      <td>Martín Monteagudo Monteagudo</td>\n",
       "    </tr>\n",
       "    <tr>\n",
       "      <th>3</th>\n",
       "      <td>Barcelona</td>\n",
       "      <td>Frank Rijkaard</td>\n",
       "      <td>Levante</td>\n",
       "      <td>Bernd Schuster</td>\n",
       "    </tr>\n",
       "    <tr>\n",
       "      <th>4</th>\n",
       "      <td>Albacete</td>\n",
       "      <td>José Manuel González López</td>\n",
       "      <td>Barcelona</td>\n",
       "      <td>Frank Rijkaard</td>\n",
       "    </tr>\n",
       "  </tbody>\n",
       "</table>\n",
       "</div>"
      ],
      "text/plain": [
       "   home_team          home_team_managers  away_team  \\\n",
       "0  Barcelona              Frank Rijkaard     Málaga   \n",
       "1  Barcelona              Frank Rijkaard    Osasuna   \n",
       "2  Barcelona              Frank Rijkaard   Albacete   \n",
       "3  Barcelona              Frank Rijkaard    Levante   \n",
       "4   Albacete  José Manuel González López  Barcelona   \n",
       "\n",
       "             away_team_managers  \n",
       "0  Gregorio Manzano Ballesteros  \n",
       "1       Javier Aguirre Onaindía  \n",
       "2  Martín Monteagudo Monteagudo  \n",
       "3                Bernd Schuster  \n",
       "4                Frank Rijkaard  "
      ]
     },
     "execution_count": 27,
     "metadata": {},
     "output_type": "execute_result"
    }
   ],
   "source": [
    "fcb_df[['home_team','home_team_managers','away_team','away_team_managers']].head()"
   ]
  },
  {
   "cell_type": "markdown",
   "id": "9fc50fb5",
   "metadata": {},
   "source": [
    "**Issue #5:** stadium and referee should contain only the name\n",
    "#### Define\n",
    "Use the key attribute pairs of json and extract the stadium nameand referee name. discrad the unwanted values.\n",
    "#### Code"
   ]
  },
  {
   "cell_type": "code",
   "execution_count": 28,
   "id": "e2690e89",
   "metadata": {},
   "outputs": [],
   "source": [
    "fcb_df['stadium'] = fcb_df['stadium'].str.get('name')\n",
    "fcb_df['referee'] = fcb_df['referee'].str.get('name')"
   ]
  },
  {
   "cell_type": "markdown",
   "id": "34cfe576",
   "metadata": {},
   "source": [
    "#### Test"
   ]
  },
  {
   "cell_type": "code",
   "execution_count": 29,
   "id": "d684be8d",
   "metadata": {},
   "outputs": [
    {
     "data": {
      "text/html": [
       "<div>\n",
       "<style scoped>\n",
       "    .dataframe tbody tr th:only-of-type {\n",
       "        vertical-align: middle;\n",
       "    }\n",
       "\n",
       "    .dataframe tbody tr th {\n",
       "        vertical-align: top;\n",
       "    }\n",
       "\n",
       "    .dataframe thead th {\n",
       "        text-align: right;\n",
       "    }\n",
       "</style>\n",
       "<table border=\"1\" class=\"dataframe\">\n",
       "  <thead>\n",
       "    <tr style=\"text-align: right;\">\n",
       "      <th></th>\n",
       "      <th>stadium</th>\n",
       "      <th>referee</th>\n",
       "    </tr>\n",
       "  </thead>\n",
       "  <tbody>\n",
       "    <tr>\n",
       "      <th>0</th>\n",
       "      <td>Camp Nou</td>\n",
       "      <td>José Omar Losantos</td>\n",
       "    </tr>\n",
       "    <tr>\n",
       "      <th>1</th>\n",
       "      <td>Camp Nou</td>\n",
       "      <td>Vicente José Lizondo Cortés</td>\n",
       "    </tr>\n",
       "    <tr>\n",
       "      <th>2</th>\n",
       "      <td>Camp Nou</td>\n",
       "      <td>Carlos Velasco Carballo</td>\n",
       "    </tr>\n",
       "    <tr>\n",
       "      <th>3</th>\n",
       "      <td>Camp Nou</td>\n",
       "      <td>David Fernández Borbalan</td>\n",
       "    </tr>\n",
       "    <tr>\n",
       "      <th>4</th>\n",
       "      <td>Estadio Carlos Belmonte</td>\n",
       "      <td>Alfonso Perez Burrull</td>\n",
       "    </tr>\n",
       "  </tbody>\n",
       "</table>\n",
       "</div>"
      ],
      "text/plain": [
       "                   stadium                      referee\n",
       "0                 Camp Nou           José Omar Losantos\n",
       "1                 Camp Nou  Vicente José Lizondo Cortés\n",
       "2                 Camp Nou      Carlos Velasco Carballo\n",
       "3                 Camp Nou     David Fernández Borbalan\n",
       "4  Estadio Carlos Belmonte        Alfonso Perez Burrull"
      ]
     },
     "execution_count": 29,
     "metadata": {},
     "output_type": "execute_result"
    }
   ],
   "source": [
    "fcb_df[['stadium','referee']].head()"
   ]
  },
  {
   "cell_type": "markdown",
   "id": "1156a294",
   "metadata": {},
   "source": [
    "**Issue #6:** create new column 'match_outcome' that have values of win, draw, lose for FCB.\n",
    "#### Define\n",
    "Use filtering and conditional statements to create new match_outcome\n",
    "#### Code"
   ]
  },
  {
   "cell_type": "code",
   "execution_count": 30,
   "id": "5a807fac",
   "metadata": {},
   "outputs": [],
   "source": [
    "mask1 = fcb_df.query(\" (home_team == 'Barcelona' and home_score > away_score) or (away_team == 'Barcelona' and home_score < away_score)\").index\n",
    "mask2 = fcb_df.query(\"(home_team != 'Barcelona' and home_score > away_score) or (away_team != 'Barcelona' and home_score < away_score)\").index\n",
    "mask3 = fcb_df.query('home_score == away_score').index\n",
    "fcb_df.loc[mask1,'match_outcome'] = 'Win'\n",
    "fcb_df.loc[mask2,'match_outcome'] = 'Lost'\n",
    "fcb_df.loc[mask3,'match_outcome'] = 'Draw'\n"
   ]
  },
  {
   "cell_type": "markdown",
   "id": "44db775b",
   "metadata": {},
   "source": [
    "### Test"
   ]
  },
  {
   "cell_type": "code",
   "execution_count": 31,
   "id": "ad8df737",
   "metadata": {},
   "outputs": [
    {
     "data": {
      "text/plain": [
       "367     Win\n",
       "129    Draw\n",
       "251    Lost\n",
       "60     Lost\n",
       "346     Win\n",
       "155    Lost\n",
       "93     Lost\n",
       "307     Win\n",
       "453     Win\n",
       "219     Win\n",
       "Name: match_outcome, dtype: object"
      ]
     },
     "execution_count": 31,
     "metadata": {},
     "output_type": "execute_result"
    }
   ],
   "source": [
    "fcb_df.match_outcome.sample(10)"
   ]
  },
  {
   "cell_type": "code",
   "execution_count": 32,
   "id": "b8540dd1",
   "metadata": {},
   "outputs": [
    {
     "data": {
      "text/plain": [
       "Win     383\n",
       "Draw     86\n",
       "Lost     51\n",
       "Name: match_outcome, dtype: int64"
      ]
     },
     "execution_count": 32,
     "metadata": {},
     "output_type": "execute_result"
    }
   ],
   "source": [
    "fcb_df.match_outcome.value_counts()"
   ]
  },
  {
   "cell_type": "markdown",
   "id": "788f713f",
   "metadata": {},
   "source": [
    "<a id='cleaned_data'></a>\n",
    "## Cleaned FCB Dataset"
   ]
  },
  {
   "cell_type": "code",
   "execution_count": 33,
   "id": "c7c4bd68",
   "metadata": {},
   "outputs": [
    {
     "data": {
      "text/html": [
       "<div>\n",
       "<style scoped>\n",
       "    .dataframe tbody tr th:only-of-type {\n",
       "        vertical-align: middle;\n",
       "    }\n",
       "\n",
       "    .dataframe tbody tr th {\n",
       "        vertical-align: top;\n",
       "    }\n",
       "\n",
       "    .dataframe thead th {\n",
       "        text-align: right;\n",
       "    }\n",
       "</style>\n",
       "<table border=\"1\" class=\"dataframe\">\n",
       "  <thead>\n",
       "    <tr style=\"text-align: right;\">\n",
       "      <th></th>\n",
       "      <th>match_id</th>\n",
       "      <th>match_date</th>\n",
       "      <th>kick_off</th>\n",
       "      <th>season</th>\n",
       "      <th>home_team</th>\n",
       "      <th>away_team</th>\n",
       "      <th>home_score</th>\n",
       "      <th>away_score</th>\n",
       "      <th>match_week</th>\n",
       "      <th>stadium</th>\n",
       "      <th>referee</th>\n",
       "      <th>home_team_managers</th>\n",
       "      <th>away_team_managers</th>\n",
       "      <th>match_outcome</th>\n",
       "    </tr>\n",
       "  </thead>\n",
       "  <tbody>\n",
       "    <tr>\n",
       "      <th>0</th>\n",
       "      <td>68314</td>\n",
       "      <td>2004-12-04</td>\n",
       "      <td>20:00:00</td>\n",
       "      <td>2004/2005</td>\n",
       "      <td>Barcelona</td>\n",
       "      <td>Málaga</td>\n",
       "      <td>4</td>\n",
       "      <td>0</td>\n",
       "      <td>14</td>\n",
       "      <td>Camp Nou</td>\n",
       "      <td>José Omar Losantos</td>\n",
       "      <td>Frank Rijkaard</td>\n",
       "      <td>Gregorio Manzano Ballesteros</td>\n",
       "      <td>Win</td>\n",
       "    </tr>\n",
       "    <tr>\n",
       "      <th>1</th>\n",
       "      <td>68313</td>\n",
       "      <td>2004-10-24</td>\n",
       "      <td>21:00:00</td>\n",
       "      <td>2004/2005</td>\n",
       "      <td>Barcelona</td>\n",
       "      <td>Osasuna</td>\n",
       "      <td>3</td>\n",
       "      <td>0</td>\n",
       "      <td>8</td>\n",
       "      <td>Camp Nou</td>\n",
       "      <td>Vicente José Lizondo Cortés</td>\n",
       "      <td>Frank Rijkaard</td>\n",
       "      <td>Javier Aguirre Onaindía</td>\n",
       "      <td>Win</td>\n",
       "    </tr>\n",
       "    <tr>\n",
       "      <th>2</th>\n",
       "      <td>68316</td>\n",
       "      <td>2005-05-01</td>\n",
       "      <td>19:00:00</td>\n",
       "      <td>2004/2005</td>\n",
       "      <td>Barcelona</td>\n",
       "      <td>Albacete</td>\n",
       "      <td>2</td>\n",
       "      <td>0</td>\n",
       "      <td>34</td>\n",
       "      <td>Camp Nou</td>\n",
       "      <td>Carlos Velasco Carballo</td>\n",
       "      <td>Frank Rijkaard</td>\n",
       "      <td>Martín Monteagudo Monteagudo</td>\n",
       "      <td>Win</td>\n",
       "    </tr>\n",
       "    <tr>\n",
       "      <th>3</th>\n",
       "      <td>68315</td>\n",
       "      <td>2004-12-21</td>\n",
       "      <td>20:00:00</td>\n",
       "      <td>2004/2005</td>\n",
       "      <td>Barcelona</td>\n",
       "      <td>Levante</td>\n",
       "      <td>2</td>\n",
       "      <td>1</td>\n",
       "      <td>17</td>\n",
       "      <td>Camp Nou</td>\n",
       "      <td>David Fernández Borbalan</td>\n",
       "      <td>Frank Rijkaard</td>\n",
       "      <td>Bernd Schuster</td>\n",
       "      <td>Win</td>\n",
       "    </tr>\n",
       "    <tr>\n",
       "      <th>4</th>\n",
       "      <td>69153</td>\n",
       "      <td>2004-12-11</td>\n",
       "      <td>20:00:00</td>\n",
       "      <td>2004/2005</td>\n",
       "      <td>Albacete</td>\n",
       "      <td>Barcelona</td>\n",
       "      <td>1</td>\n",
       "      <td>2</td>\n",
       "      <td>15</td>\n",
       "      <td>Estadio Carlos Belmonte</td>\n",
       "      <td>Alfonso Perez Burrull</td>\n",
       "      <td>José Manuel González López</td>\n",
       "      <td>Frank Rijkaard</td>\n",
       "      <td>Win</td>\n",
       "    </tr>\n",
       "  </tbody>\n",
       "</table>\n",
       "</div>"
      ],
      "text/plain": [
       "   match_id match_date  kick_off     season  home_team  away_team  home_score  \\\n",
       "0     68314 2004-12-04  20:00:00  2004/2005  Barcelona     Málaga           4   \n",
       "1     68313 2004-10-24  21:00:00  2004/2005  Barcelona    Osasuna           3   \n",
       "2     68316 2005-05-01  19:00:00  2004/2005  Barcelona   Albacete           2   \n",
       "3     68315 2004-12-21  20:00:00  2004/2005  Barcelona    Levante           2   \n",
       "4     69153 2004-12-11  20:00:00  2004/2005   Albacete  Barcelona           1   \n",
       "\n",
       "   away_score  match_week                  stadium  \\\n",
       "0           0          14                 Camp Nou   \n",
       "1           0           8                 Camp Nou   \n",
       "2           0          34                 Camp Nou   \n",
       "3           1          17                 Camp Nou   \n",
       "4           2          15  Estadio Carlos Belmonte   \n",
       "\n",
       "                       referee          home_team_managers  \\\n",
       "0           José Omar Losantos              Frank Rijkaard   \n",
       "1  Vicente José Lizondo Cortés              Frank Rijkaard   \n",
       "2      Carlos Velasco Carballo              Frank Rijkaard   \n",
       "3     David Fernández Borbalan              Frank Rijkaard   \n",
       "4        Alfonso Perez Burrull  José Manuel González López   \n",
       "\n",
       "             away_team_managers match_outcome  \n",
       "0  Gregorio Manzano Ballesteros           Win  \n",
       "1       Javier Aguirre Onaindía           Win  \n",
       "2  Martín Monteagudo Monteagudo           Win  \n",
       "3                Bernd Schuster           Win  \n",
       "4                Frank Rijkaard           Win  "
      ]
     },
     "execution_count": 33,
     "metadata": {},
     "output_type": "execute_result"
    }
   ],
   "source": [
    "fcb_df.head()"
   ]
  },
  {
   "cell_type": "code",
   "execution_count": 34,
   "id": "8aad40f3",
   "metadata": {},
   "outputs": [],
   "source": [
    "#fcb_df.to_csv('./Datasets/fcb2004-2021.csv', index=False)"
   ]
  },
  {
   "cell_type": "markdown",
   "id": "5ee09fec",
   "metadata": {},
   "source": [
    "# Part II: Exploratory Data Analysis"
   ]
  },
  {
   "cell_type": "code",
   "execution_count": 35,
   "id": "0bcf2260",
   "metadata": {},
   "outputs": [
    {
     "data": {
      "text/plain": [
       "Win     383\n",
       "Draw     86\n",
       "Lost     51\n",
       "Name: match_outcome, dtype: int64"
      ]
     },
     "execution_count": 35,
     "metadata": {},
     "output_type": "execute_result"
    }
   ],
   "source": [
    "fcb_df.match_outcome.value_counts()"
   ]
  },
  {
   "cell_type": "code",
   "execution_count": null,
   "id": "f0207ef3",
   "metadata": {},
   "outputs": [],
   "source": []
  },
  {
   "cell_type": "code",
   "execution_count": null,
   "id": "fe749a8a",
   "metadata": {},
   "outputs": [],
   "source": []
  }
 ],
 "metadata": {
  "kernelspec": {
   "display_name": "Python 3 (ipykernel)",
   "language": "python",
   "name": "python3"
  },
  "language_info": {
   "codemirror_mode": {
    "name": "ipython",
    "version": 3
   },
   "file_extension": ".py",
   "mimetype": "text/x-python",
   "name": "python",
   "nbconvert_exporter": "python",
   "pygments_lexer": "ipython3",
   "version": "3.9.12"
  }
 },
 "nbformat": 4,
 "nbformat_minor": 5
}
